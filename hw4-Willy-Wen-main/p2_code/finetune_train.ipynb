{
 "cells": [
  {
   "cell_type": "code",
   "execution_count": 1,
   "id": "718756b6",
   "metadata": {},
   "outputs": [],
   "source": [
    "import os\n",
    "import csv\n",
    "import pandas as pd\n",
    "import numpy as np\n",
    "from PIL import Image\n",
    "import matplotlib.pyplot as plt\n",
    "import tqdm\n",
    "import torch\n",
    "from torch import nn, optim\n",
    "from torchvision import models, transforms\n",
    "from torchvision.transforms import AutoAugmentPolicy\n",
    "from torch.utils.data import Dataset, DataLoader, ConcatDataset"
   ]
  },
  {
   "cell_type": "code",
   "execution_count": 2,
   "id": "681a37fd",
   "metadata": {},
   "outputs": [],
   "source": [
    "def same_seeds(seed):\n",
    "    np.random.seed(seed)\n",
    "    torch.manual_seed(seed)\n",
    "same_seeds(777)"
   ]
  },
  {
   "cell_type": "code",
   "execution_count": 3,
   "id": "45e4db29",
   "metadata": {},
   "outputs": [
    {
     "name": "stdout",
     "output_type": "stream",
     "text": [
      "cuda:0\n"
     ]
    }
   ],
   "source": [
    "device = torch.device('cuda:0' if torch.cuda.is_available() else 'cpu')\n",
    "print(device)"
   ]
  },
  {
   "cell_type": "code",
   "execution_count": 4,
   "id": "7d56ec6b",
   "metadata": {},
   "outputs": [
    {
     "data": {
      "text/html": [
       "<div>\n",
       "<style scoped>\n",
       "    .dataframe tbody tr th:only-of-type {\n",
       "        vertical-align: middle;\n",
       "    }\n",
       "\n",
       "    .dataframe tbody tr th {\n",
       "        vertical-align: top;\n",
       "    }\n",
       "\n",
       "    .dataframe thead th {\n",
       "        text-align: right;\n",
       "    }\n",
       "</style>\n",
       "<table border=\"1\" class=\"dataframe\">\n",
       "  <thead>\n",
       "    <tr style=\"text-align: right;\">\n",
       "      <th></th>\n",
       "      <th>filename</th>\n",
       "      <th>label</th>\n",
       "    </tr>\n",
       "  </thead>\n",
       "  <tbody>\n",
       "    <tr>\n",
       "      <th>0</th>\n",
       "      <td>Couch00015.jpg</td>\n",
       "      <td>Couch</td>\n",
       "    </tr>\n",
       "    <tr>\n",
       "      <th>1</th>\n",
       "      <td>Helmet00018.jpg</td>\n",
       "      <td>Helmet</td>\n",
       "    </tr>\n",
       "    <tr>\n",
       "      <th>2</th>\n",
       "      <td>Refrigerator00011.jpg</td>\n",
       "      <td>Refrigerator</td>\n",
       "    </tr>\n",
       "    <tr>\n",
       "      <th>3</th>\n",
       "      <td>Alarm_Clock00061.jpg</td>\n",
       "      <td>Alarm_Clock</td>\n",
       "    </tr>\n",
       "    <tr>\n",
       "      <th>4</th>\n",
       "      <td>Bike00088.jpg</td>\n",
       "      <td>Bike</td>\n",
       "    </tr>\n",
       "    <tr>\n",
       "      <th>...</th>\n",
       "      <td>...</td>\n",
       "      <td>...</td>\n",
       "    </tr>\n",
       "    <tr>\n",
       "      <th>3946</th>\n",
       "      <td>Mouse00019.jpg</td>\n",
       "      <td>Mouse</td>\n",
       "    </tr>\n",
       "    <tr>\n",
       "      <th>3947</th>\n",
       "      <td>Chair00046.jpg</td>\n",
       "      <td>Chair</td>\n",
       "    </tr>\n",
       "    <tr>\n",
       "      <th>3948</th>\n",
       "      <td>Candles00017.jpg</td>\n",
       "      <td>Candles</td>\n",
       "    </tr>\n",
       "    <tr>\n",
       "      <th>3949</th>\n",
       "      <td>Flowers00013.jpg</td>\n",
       "      <td>Flowers</td>\n",
       "    </tr>\n",
       "    <tr>\n",
       "      <th>3950</th>\n",
       "      <td>Flipflops00083.jpg</td>\n",
       "      <td>Flipflops</td>\n",
       "    </tr>\n",
       "  </tbody>\n",
       "</table>\n",
       "<p>3951 rows × 2 columns</p>\n",
       "</div>"
      ],
      "text/plain": [
       "                   filename         label\n",
       "0            Couch00015.jpg         Couch\n",
       "1           Helmet00018.jpg        Helmet\n",
       "2     Refrigerator00011.jpg  Refrigerator\n",
       "3      Alarm_Clock00061.jpg   Alarm_Clock\n",
       "4             Bike00088.jpg          Bike\n",
       "...                     ...           ...\n",
       "3946         Mouse00019.jpg         Mouse\n",
       "3947         Chair00046.jpg         Chair\n",
       "3948       Candles00017.jpg       Candles\n",
       "3949       Flowers00013.jpg       Flowers\n",
       "3950     Flipflops00083.jpg     Flipflops\n",
       "\n",
       "[3951 rows x 2 columns]"
      ]
     },
     "execution_count": 4,
     "metadata": {},
     "output_type": "execute_result"
    }
   ],
   "source": [
    "train_gt = pd.read_csv('hw4_data/office/train.csv')\n",
    "train_gt = train_gt.drop(columns='id')\n",
    "train_gt"
   ]
  },
  {
   "cell_type": "code",
   "execution_count": 5,
   "id": "6f279c09",
   "metadata": {},
   "outputs": [],
   "source": [
    "# class2label_dict = {}\n",
    "# label2class_dict = {}\n",
    "# for i, c in enumerate(list(set(train_gt['label']))):\n",
    "#     class2label_dict[c] = i\n",
    "#     label2class_dict[i] = c"
   ]
  },
  {
   "cell_type": "code",
   "execution_count": 6,
   "id": "81335585",
   "metadata": {
    "scrolled": true
   },
   "outputs": [],
   "source": [
    "class2label_dict = {'TV': 0,\n",
    " 'Desk_Lamp': 1,\n",
    " 'Speaker': 2,\n",
    " 'Hammer': 3,\n",
    " 'Folder': 4,\n",
    " 'Laptop': 5,\n",
    " 'Pen': 6,\n",
    " 'Postit_Notes': 7,\n",
    " 'Mop': 8,\n",
    " 'Mug': 9,\n",
    " 'Radio': 10,\n",
    " 'File_Cabinet': 11,\n",
    " 'Eraser': 12,\n",
    " 'Ruler': 13,\n",
    " 'Couch': 14,\n",
    " 'Trash_Can': 15,\n",
    " 'Webcam': 16,\n",
    " 'Backpack': 17,\n",
    " 'Bucket': 18,\n",
    " 'Kettle': 19,\n",
    " 'Batteries': 20,\n",
    " 'Telephone': 21,\n",
    " 'Chair': 22,\n",
    " 'Toys': 23,\n",
    " 'Refrigerator': 24,\n",
    " 'Clipboards': 25,\n",
    " 'Fork': 26,\n",
    " 'Push_Pin': 27,\n",
    " 'Marker': 28,\n",
    " 'Candles': 29,\n",
    " 'Flipflops': 30,\n",
    " 'Helmet': 31,\n",
    " 'Pencil': 32,\n",
    " 'Calendar': 33,\n",
    " 'Monitor': 34,\n",
    " 'Shelf': 35,\n",
    " 'Sneakers': 36,\n",
    " 'Soda': 37,\n",
    " 'Bottle': 38,\n",
    " 'Flowers': 39,\n",
    " 'Drill': 40,\n",
    " 'Table': 41,\n",
    " 'Knives': 42,\n",
    " 'Computer': 43,\n",
    " 'Alarm_Clock': 44,\n",
    " 'Sink': 45,\n",
    " 'Exit_Sign': 46,\n",
    " 'Bed': 47,\n",
    " 'Oven': 48,\n",
    " 'Keyboard': 49,\n",
    " 'Paper_Clip': 50,\n",
    " 'Lamp_Shade': 51,\n",
    " 'Scissors': 52,\n",
    " 'Curtains': 53,\n",
    " 'Fan': 54,\n",
    " 'Spoon': 55,\n",
    " 'Screwdriver': 56,\n",
    " 'Glasses': 57,\n",
    " 'Pan': 58,\n",
    " 'ToothBrush': 59,\n",
    " 'Mouse': 60,\n",
    " 'Printer': 61,\n",
    " 'Calculator': 62,\n",
    " 'Notebook': 63,\n",
    " 'Bike': 64}"
   ]
  },
  {
   "cell_type": "code",
   "execution_count": null,
   "id": "8297ad5c",
   "metadata": {},
   "outputs": [],
   "source": []
  },
  {
   "cell_type": "code",
   "execution_count": 7,
   "id": "da89d152",
   "metadata": {},
   "outputs": [],
   "source": [
    "class Office_Dataset(Dataset):\n",
    "    def __init__(self, img_dir, csv_path, transform=None):\n",
    "        self.gt = pd.read_csv(csv_path)\n",
    "        self.img_dir = img_dir\n",
    "        self.transform = transform\n",
    "\n",
    "    def __len__(self):\n",
    "        return len(self.gt)\n",
    "\n",
    "    def __getitem__(self, idx):\n",
    "        idx_row = self.gt.loc[idx]\n",
    "        img_name = idx_row['filename']\n",
    "        img_path = f'{self.img_dir}/{img_name}'\n",
    "        image = Image.open(img_path)\n",
    "        label = class2label_dict[idx_row['label']]\n",
    "        if self.transform:\n",
    "            image = self.transform(image)\n",
    "        return image, label"
   ]
  },
  {
   "cell_type": "code",
   "execution_count": 8,
   "id": "783ad15b",
   "metadata": {},
   "outputs": [],
   "source": [
    "batch_size = 128\n",
    "\n",
    "transform_1 = transforms.Compose([transforms.Resize(128),\n",
    "                                transforms.AutoAugment(policy=AutoAugmentPolicy.IMAGENET),\n",
    "                                transforms.CenterCrop((128,128)),\n",
    "                                transforms.ToTensor(),\n",
    "                                transforms.Normalize(mean=[0.485, 0.456, 0.406],\n",
    "                                                     std=[0.229, 0.224, 0.225])\n",
    "                               ])\n",
    "transform_2 = transforms.Compose([transforms.Resize(128),\n",
    "                                transforms.AutoAugment(policy=AutoAugmentPolicy.CIFAR10),\n",
    "                                transforms.CenterCrop((128,128)),\n",
    "                                transforms.ToTensor(),\n",
    "                                transforms.Normalize(mean=[0.485, 0.456, 0.406],\n",
    "                                                     std=[0.229, 0.224, 0.225])\n",
    "                               ])\n",
    "transform_3 = transforms.Compose([transforms.Resize(128),\n",
    "                                transforms.AutoAugment(policy=AutoAugmentPolicy.SVHN),\n",
    "                                transforms.CenterCrop((128,128)),\n",
    "                                transforms.ToTensor(),\n",
    "                                transforms.Normalize(mean=[0.485, 0.456, 0.406],\n",
    "                                                     std=[0.229, 0.224, 0.225])\n",
    "                               ])\n",
    "transform_test = transforms.Compose([transforms.Resize(128),\n",
    "                                transforms.CenterCrop((128,128)),\n",
    "                                transforms.ToTensor(),\n",
    "                                transforms.Normalize(mean=[0.485, 0.456, 0.406],\n",
    "                                                     std=[0.229, 0.224, 0.225])\n",
    "                               ])"
   ]
  },
  {
   "cell_type": "code",
   "execution_count": 9,
   "id": "35d1efad",
   "metadata": {},
   "outputs": [],
   "source": [
    "office_train_img_dir = 'D:/NTU/DLCV/hw4/hw4_data/office/train/'\n",
    "office_train_csv_path = 'D:/NTU/DLCV/hw4/hw4_data/office/train.csv'\n",
    "office_val_img_dir = 'D:/NTU/DLCV/hw4/hw4_data/office/val/'\n",
    "office_val_csv_path = 'D:/NTU/DLCV/hw4/hw4_data/office/val.csv'\n",
    "\n",
    "office_train_1 = Office_Dataset(office_train_img_dir, office_train_csv_path, transform=transform_1)\n",
    "office_train_2 = Office_Dataset(office_train_img_dir, office_train_csv_path, transform=transform_2)\n",
    "office_train_3 = Office_Dataset(office_train_img_dir, office_train_csv_path, transform=transform_3)\n",
    "office_train_4 = Office_Dataset(office_train_img_dir, office_train_csv_path, transform=transform_test)\n",
    "office_train_dataset = ConcatDataset([office_train_1, office_train_2, office_train_3, office_train_4])\n",
    "office_train_dataloader = DataLoader(office_train_dataset, batch_size=batch_size, shuffle=True, pin_memory=True)\n",
    "\n",
    "office_val_dataset = Office_Dataset(office_val_img_dir, office_val_csv_path, transform=transform_test)\n",
    "office_val_dataloader = DataLoader(office_val_dataset, batch_size=batch_size, shuffle=False, pin_memory=True)"
   ]
  },
  {
   "cell_type": "code",
   "execution_count": 10,
   "id": "c7067367",
   "metadata": {},
   "outputs": [
    {
     "name": "stdout",
     "output_type": "stream",
     "text": [
      "torch.Size([128, 3, 128, 128]) torch.Size([128])\n"
     ]
    }
   ],
   "source": [
    "images, labels = next(iter(office_train_dataloader))\n",
    "print(images.shape, labels.shape)"
   ]
  },
  {
   "cell_type": "code",
   "execution_count": 11,
   "id": "ed7a3774",
   "metadata": {},
   "outputs": [],
   "source": [
    "class model_ft(nn.Module):\n",
    "    def __init__(self):\n",
    "        super(model_ft, self).__init__()\n",
    "        self.backbone = models.resnet50(weights=None)\n",
    "#         self.backbone.load_state_dict(torch.load('hw4_data/pretrain_model_SL.pt'))\n",
    "        self.backbone.load_state_dict(torch.load('p2_ckpt/backbone.pt')['model_state_dict'])\n",
    "        self.classifier = nn.Sequential(nn.BatchNorm1d(1000),\n",
    "                                        nn.ReLU(),\n",
    "                                        nn.Dropout(p=0.5),\n",
    "                                        nn.Linear(1000, 512),\n",
    "                                        nn.BatchNorm1d(512),\n",
    "                                        nn.ReLU(),\n",
    "                                        nn.Dropout(p=0.5),\n",
    "                                        nn.Linear(512, 65)\n",
    "                                       )\n",
    "        # freeze backbone\n",
    "        for parameter in self.backbone.parameters():   \n",
    "            parameter.requires_grad = False\n",
    "            \n",
    "    def forward(self, x):\n",
    "        x = self.backbone(x)\n",
    "        x = self.classifier(x)\n",
    "        return x\n",
    "    \n",
    "p2_model = model_ft()\n",
    "# p2_model = torch.load('p2_ckpt/best_model_C.pt')\n",
    "p2_model.to(device)\n",
    "\n",
    "best_model = model_ft()\n",
    "best_acc = 0\n",
    "\n",
    "record = {'train_loss':[], 'train_acc':[], 'val_loss':[], 'val_acc':[]}"
   ]
  },
  {
   "cell_type": "code",
   "execution_count": 12,
   "id": "b18169ee",
   "metadata": {},
   "outputs": [],
   "source": [
    "def record_append(r, a, b, c, d):\n",
    "    r['train_loss'].append(a)\n",
    "    r['train_acc'].append(b)\n",
    "    r['val_loss'].append(c)\n",
    "    r['val_acc'].append(d)\n",
    "    \n",
    "def plot_record(r):\n",
    "    plt.figure(figsize=(10,6))\n",
    "    plt.subplot(2,1,1)\n",
    "    plt.plot(r['train_loss'], label='train_loss')\n",
    "    plt.plot(r['val_loss'], label='val_loss')\n",
    "    plt.legend()\n",
    "    plt.grid()\n",
    "    plt.subplot(2,1,2)\n",
    "    plt.plot(r['train_acc'], label='train_acc')\n",
    "    plt.plot(r['val_acc'], label='val_acc')\n",
    "    plt.legend()\n",
    "    plt.grid()\n",
    "    plt.show()"
   ]
  },
  {
   "cell_type": "code",
   "execution_count": 13,
   "id": "b7a09f49",
   "metadata": {},
   "outputs": [],
   "source": [
    "def train_loop(dataloader, model, loss_fn, optimizer, scheduler=None):\n",
    "    model.train()\n",
    "    batch_num = len(dataloader)\n",
    "    train_loss, train_acc = 0, 0\n",
    "    with tqdm.tqdm(total=batch_num) as pbar:\n",
    "        pbar.set_description(f'epoch {e}')\n",
    "        for images, labels in dataloader:\n",
    "            images, labels = images.to(device), labels.to(device)\n",
    "            pred_labels = model(images)\n",
    "            loss = loss_fn(pred_labels, labels)\n",
    "            acc = ((pred_labels.argmax(1)==labels).sum()/len(labels))\n",
    "            train_loss += loss.item()\n",
    "            train_acc += acc.item()\n",
    "            optimizer.zero_grad()\n",
    "            loss.backward()\n",
    "            optimizer.step()\n",
    "            pbar.set_postfix({'loss': loss.item(), 'acc': acc.item()})\n",
    "            pbar.update(1)\n",
    "    if scheduler is not None:\n",
    "        scheduler.step(train_loss)\n",
    "    train_loss /= batch_num\n",
    "    train_acc /= batch_num\n",
    "    print(f\"Train | Avg_loss: {train_loss:>8f}, Accuracy: {(100*train_acc):>0.1f}%\")\n",
    "    return train_loss, train_acc\n",
    "    \n",
    "\n",
    "def val_loop(dataloader, model, loss_fn):\n",
    "    model.eval()\n",
    "#     total, hit = 0, 0\n",
    "    batch_num = len(dataloader)\n",
    "    val_loss, val_acc = 0, 0\n",
    "    with torch.no_grad():\n",
    "        for images, labels in dataloader:\n",
    "            images, labels = images.to(device), labels.to(device)\n",
    "            pred_labels = model(images)\n",
    "            loss = loss_fn(pred_labels, labels)\n",
    "            acc = (pred_labels.argmax(1)==labels).sum()/len(labels)\n",
    "            val_loss += loss.item()\n",
    "            val_acc += acc.item()\n",
    "#             hit += (pred_labels.argmax(1)==labels).sum()\n",
    "#             total += len(labels)\n",
    "    val_loss /= batch_num\n",
    "    val_acc /= batch_num\n",
    "#     print(hit/total)\n",
    "    print(f\"Validation | Avg_loss: {val_loss:>8f}, Accuracy: {(100*val_acc):>0.1f}%\")\n",
    "    return val_loss, val_acc"
   ]
  },
  {
   "cell_type": "code",
   "execution_count": 14,
   "id": "d7dac033",
   "metadata": {},
   "outputs": [],
   "source": [
    "loss_fn = nn.CrossEntropyLoss()\n",
    "optimizer = optim.Adam(p2_model.parameters(), lr=1e-4)\n",
    "scheduler = optim.lr_scheduler.ReduceLROnPlateau(optimizer, mode='min', factor=0.5, patience=5)"
   ]
  },
  {
   "cell_type": "code",
   "execution_count": 15,
   "id": "116355d1",
   "metadata": {
    "scrolled": true
   },
   "outputs": [
    {
     "name": "stderr",
     "output_type": "stream",
     "text": [
      "epoch 1: 100%|████████████████████████████████████████████████| 124/124 [04:03<00:00,  1.96s/it, loss=3.88, acc=0.0667]\n"
     ]
    },
    {
     "name": "stdout",
     "output_type": "stream",
     "text": [
      "Train | Avg_loss: 4.002434, Accuracy: 7.2%\n",
      "Validation | Avg_loss: 3.485254, Accuracy: 23.5%\n",
      "new best acc: 0.23508523404598236\n"
     ]
    },
    {
     "name": "stderr",
     "output_type": "stream",
     "text": [
      "epoch 2: 100%|██████████████████████████████████████████████████| 124/124 [04:04<00:00,  1.97s/it, loss=3.46, acc=0.15]\n"
     ]
    },
    {
     "name": "stdout",
     "output_type": "stream",
     "text": [
      "Train | Avg_loss: 3.672953, Accuracy: 13.1%\n",
      "Validation | Avg_loss: 3.262176, Accuracy: 26.4%\n",
      "new best acc: 0.26438210904598236\n"
     ]
    },
    {
     "name": "stderr",
     "output_type": "stream",
     "text": [
      "epoch 3: 100%|█████████████████████████████████████████████████| 124/124 [03:57<00:00,  1.91s/it, loss=3.53, acc=0.217]\n"
     ]
    },
    {
     "name": "stdout",
     "output_type": "stream",
     "text": [
      "Train | Avg_loss: 3.505540, Accuracy: 15.7%\n",
      "Validation | Avg_loss: 3.120661, Accuracy: 28.8%\n",
      "new best acc: 0.28781960904598236\n"
     ]
    },
    {
     "name": "stderr",
     "output_type": "stream",
     "text": [
      "epoch 4: 100%|█████████████████████████████████████████████████| 124/124 [03:53<00:00,  1.88s/it, loss=3.39, acc=0.183]\n"
     ]
    },
    {
     "name": "stdout",
     "output_type": "stream",
     "text": [
      "Train | Avg_loss: 3.393490, Accuracy: 17.7%\n",
      "Validation | Avg_loss: 3.037662, Accuracy: 31.1%\n",
      "new best acc: 0.3109019920229912\n"
     ]
    },
    {
     "name": "stderr",
     "output_type": "stream",
     "text": [
      "epoch 5: 100%|█████████████████████████████████████████████████| 124/124 [03:57<00:00,  1.91s/it, loss=3.27, acc=0.283]\n"
     ]
    },
    {
     "name": "stdout",
     "output_type": "stream",
     "text": [
      "Train | Avg_loss: 3.320538, Accuracy: 19.1%\n",
      "Validation | Avg_loss: 2.967227, Accuracy: 32.3%\n",
      "new best acc: 0.3226207420229912\n"
     ]
    },
    {
     "name": "stderr",
     "output_type": "stream",
     "text": [
      "epoch 6: 100%|███████████████████████████████████████████████████| 124/124 [03:57<00:00,  1.92s/it, loss=3.37, acc=0.2]\n"
     ]
    },
    {
     "name": "stdout",
     "output_type": "stream",
     "text": [
      "Train | Avg_loss: 3.267078, Accuracy: 19.9%\n",
      "Validation | Avg_loss: 2.899599, Accuracy: 32.3%\n"
     ]
    },
    {
     "name": "stderr",
     "output_type": "stream",
     "text": [
      "epoch 7: 100%|█████████████████████████████████████████████████| 124/124 [03:54<00:00,  1.89s/it, loss=3.32, acc=0.183]\n"
     ]
    },
    {
     "name": "stdout",
     "output_type": "stream",
     "text": [
      "Train | Avg_loss: 3.205259, Accuracy: 21.1%\n",
      "Validation | Avg_loss: 2.857614, Accuracy: 33.6%\n",
      "new best acc: 0.3362926170229912\n"
     ]
    },
    {
     "name": "stderr",
     "output_type": "stream",
     "text": [
      "epoch 8: 100%|███████████████████████████████████████████████████| 124/124 [03:53<00:00,  1.88s/it, loss=2.85, acc=0.3]\n"
     ]
    },
    {
     "name": "stdout",
     "output_type": "stream",
     "text": [
      "Train | Avg_loss: 3.150020, Accuracy: 21.9%\n",
      "Validation | Avg_loss: 2.805488, Accuracy: 34.0%\n",
      "new best acc: 0.3401988670229912\n"
     ]
    },
    {
     "name": "stderr",
     "output_type": "stream",
     "text": [
      "epoch 9: 100%|█████████████████████████████████████████████████| 124/124 [03:51<00:00,  1.86s/it, loss=2.91, acc=0.267]\n"
     ]
    },
    {
     "name": "stdout",
     "output_type": "stream",
     "text": [
      "Train | Avg_loss: 3.116416, Accuracy: 22.2%\n",
      "Validation | Avg_loss: 2.772065, Accuracy: 34.0%\n"
     ]
    },
    {
     "name": "stderr",
     "output_type": "stream",
     "text": [
      "epoch 10: 100%|████████████████████████████████████████████████| 124/124 [03:49<00:00,  1.85s/it, loss=2.85, acc=0.283]\n"
     ]
    },
    {
     "name": "stdout",
     "output_type": "stream",
     "text": [
      "Train | Avg_loss: 3.089926, Accuracy: 22.7%\n",
      "Validation | Avg_loss: 2.742543, Accuracy: 35.2%\n",
      "new best acc: 0.3515625\n"
     ]
    },
    {
     "data": {
      "image/png": "[encoded data removed]",
      "text/plain": [
       "<Figure size 1000x600 with 2 Axes>"
      ]
     },
     "metadata": {},
     "output_type": "display_data"
    },
    {
     "name": "stderr",
     "output_type": "stream",
     "text": [
      "epoch 11: 100%|████████████████████████████████████████████████| 124/124 [03:52<00:00,  1.87s/it, loss=3.09, acc=0.183]\n"
     ]
    },
    {
     "name": "stdout",
     "output_type": "stream",
     "text": [
      "Train | Avg_loss: 3.058221, Accuracy: 23.3%\n",
      "Validation | Avg_loss: 2.701101, Accuracy: 35.5%\n",
      "new best acc: 0.35546875\n"
     ]
    },
    {
     "name": "stderr",
     "output_type": "stream",
     "text": [
      "epoch 12: 100%|█████████████████████████████████████████████████| 124/124 [03:52<00:00,  1.88s/it, loss=2.97, acc=0.25]\n"
     ]
    },
    {
     "name": "stdout",
     "output_type": "stream",
     "text": [
      "Train | Avg_loss: 3.041272, Accuracy: 23.3%\n",
      "Validation | Avg_loss: 2.655572, Accuracy: 35.9%\n",
      "new best acc: 0.359375\n"
     ]
    },
    {
     "name": "stderr",
     "output_type": "stream",
     "text": [
      "epoch 13: 100%|████████████████████████████████████████████████| 124/124 [03:53<00:00,  1.88s/it, loss=2.95, acc=0.317]\n"
     ]
    },
    {
     "name": "stdout",
     "output_type": "stream",
     "text": [
      "Train | Avg_loss: 3.000594, Accuracy: 24.1%\n",
      "Validation | Avg_loss: 2.623714, Accuracy: 35.5%\n"
     ]
    },
    {
     "name": "stderr",
     "output_type": "stream",
     "text": [
      "epoch 14: 100%|█████████████████████████████████████████████████| 124/124 [03:50<00:00,  1.86s/it, loss=3.1, acc=0.167]\n"
     ]
    },
    {
     "name": "stdout",
     "output_type": "stream",
     "text": [
      "Train | Avg_loss: 2.980427, Accuracy: 24.4%\n",
      "Validation | Avg_loss: 2.627100, Accuracy: 36.5%\n",
      "new best acc: 0.365234375\n"
     ]
    },
    {
     "name": "stderr",
     "output_type": "stream",
     "text": [
      "epoch 15: 100%|████████████████████████████████████████████████| 124/124 [04:14<00:00,  2.05s/it, loss=2.91, acc=0.233]\n"
     ]
    },
    {
     "name": "stdout",
     "output_type": "stream",
     "text": [
      "Train | Avg_loss: 2.955582, Accuracy: 25.0%\n",
      "Validation | Avg_loss: 2.603134, Accuracy: 36.5%\n"
     ]
    },
    {
     "name": "stderr",
     "output_type": "stream",
     "text": [
      "epoch 16: 100%|█████████████████████████████████████████████████| 124/124 [04:23<00:00,  2.13s/it, loss=3.2, acc=0.167]\n"
     ]
    },
    {
     "name": "stdout",
     "output_type": "stream",
     "text": [
      "Train | Avg_loss: 2.944313, Accuracy: 25.4%\n",
      "Validation | Avg_loss: 2.575345, Accuracy: 36.9%\n",
      "new best acc: 0.369140625\n"
     ]
    },
    {
     "name": "stderr",
     "output_type": "stream",
     "text": [
      "epoch 17: 100%|████████████████████████████████████████████████| 124/124 [04:22<00:00,  2.12s/it, loss=2.97, acc=0.217]\n"
     ]
    },
    {
     "name": "stdout",
     "output_type": "stream",
     "text": [
      "Train | Avg_loss: 2.931867, Accuracy: 25.8%\n",
      "Validation | Avg_loss: 2.568809, Accuracy: 36.3%\n"
     ]
    },
    {
     "name": "stderr",
     "output_type": "stream",
     "text": [
      "epoch 18: 100%|████████████████████████████████████████████████| 124/124 [04:23<00:00,  2.12s/it, loss=2.96, acc=0.233]\n"
     ]
    },
    {
     "name": "stdout",
     "output_type": "stream",
     "text": [
      "Train | Avg_loss: 2.913004, Accuracy: 26.1%\n",
      "Validation | Avg_loss: 2.570535, Accuracy: 36.5%\n"
     ]
    },
    {
     "name": "stderr",
     "output_type": "stream",
     "text": [
      "epoch 19: 100%|█████████████████████████████████████████████████| 124/124 [04:24<00:00,  2.13s/it, loss=3.1, acc=0.217]\n"
     ]
    },
    {
     "name": "stdout",
     "output_type": "stream",
     "text": [
      "Train | Avg_loss: 2.887800, Accuracy: 26.1%\n",
      "Validation | Avg_loss: 2.547524, Accuracy: 36.9%\n"
     ]
    },
    {
     "name": "stderr",
     "output_type": "stream",
     "text": [
      "epoch 20: 100%|████████████████████████████████████████████████| 124/124 [04:26<00:00,  2.15s/it, loss=2.98, acc=0.183]\n"
     ]
    },
    {
     "name": "stdout",
     "output_type": "stream",
     "text": [
      "Train | Avg_loss: 2.875111, Accuracy: 26.5%\n",
      "Validation | Avg_loss: 2.514366, Accuracy: 37.3%\n",
      "new best acc: 0.373046875\n"
     ]
    },
    {
     "data": {
      "image/png": "[encoded data removed]",
      "text/plain": [
       "<Figure size 1000x600 with 2 Axes>"
      ]
     },
     "metadata": {},
     "output_type": "display_data"
    },
    {
     "name": "stderr",
     "output_type": "stream",
     "text": [
      "epoch 21: 100%|██████████████████████████████████████████████████| 124/124 [04:26<00:00,  2.15s/it, loss=2.82, acc=0.3]\n"
     ]
    },
    {
     "name": "stdout",
     "output_type": "stream",
     "text": [
      "Train | Avg_loss: 2.865934, Accuracy: 26.8%\n",
      "Validation | Avg_loss: 2.527735, Accuracy: 37.5%\n",
      "new best acc: 0.375\n"
     ]
    },
    {
     "name": "stderr",
     "output_type": "stream",
     "text": [
      "epoch 22: 100%|████████████████████████████████████████████████| 124/124 [04:26<00:00,  2.15s/it, loss=2.92, acc=0.267]\n"
     ]
    },
    {
     "name": "stdout",
     "output_type": "stream",
     "text": [
      "Train | Avg_loss: 2.850922, Accuracy: 26.4%\n",
      "Validation | Avg_loss: 2.507384, Accuracy: 37.9%\n",
      "new best acc: 0.37890625\n"
     ]
    },
    {
     "name": "stderr",
     "output_type": "stream",
     "text": [
      "epoch 23: 100%|█████████████████████████████████████████████████| 124/124 [04:21<00:00,  2.11s/it, loss=2.93, acc=0.25]\n"
     ]
    },
    {
     "name": "stdout",
     "output_type": "stream",
     "text": [
      "Train | Avg_loss: 2.843794, Accuracy: 27.1%\n",
      "Validation | Avg_loss: 2.480169, Accuracy: 36.7%\n"
     ]
    },
    {
     "name": "stderr",
     "output_type": "stream",
     "text": [
      "epoch 24: 100%|██████████████████████████████████████████████████| 124/124 [04:21<00:00,  2.11s/it, loss=2.84, acc=0.3]\n"
     ]
    },
    {
     "name": "stdout",
     "output_type": "stream",
     "text": [
      "Train | Avg_loss: 2.832886, Accuracy: 27.2%\n",
      "Validation | Avg_loss: 2.480636, Accuracy: 37.5%\n"
     ]
    },
    {
     "name": "stderr",
     "output_type": "stream",
     "text": [
      "epoch 25: 100%|████████████████████████████████████████████████| 124/124 [04:24<00:00,  2.14s/it, loss=3.14, acc=0.233]\n"
     ]
    },
    {
     "name": "stdout",
     "output_type": "stream",
     "text": [
      "Train | Avg_loss: 2.814452, Accuracy: 27.6%\n",
      "Validation | Avg_loss: 2.472056, Accuracy: 38.1%\n",
      "new best acc: 0.380859375\n"
     ]
    },
    {
     "name": "stderr",
     "output_type": "stream",
     "text": [
      "epoch 26: 100%|█████████████████████████████████████████████████| 124/124 [04:23<00:00,  2.13s/it, loss=3.32, acc=0.15]\n"
     ]
    },
    {
     "name": "stdout",
     "output_type": "stream",
     "text": [
      "Train | Avg_loss: 2.808342, Accuracy: 27.6%\n",
      "Validation | Avg_loss: 2.469049, Accuracy: 38.3%\n",
      "new best acc: 0.3828125\n"
     ]
    },
    {
     "name": "stderr",
     "output_type": "stream",
     "text": [
      "epoch 27: 100%|████████████████████████████████████████████████| 124/124 [04:21<00:00,  2.11s/it, loss=2.67, acc=0.333]\n"
     ]
    },
    {
     "name": "stdout",
     "output_type": "stream",
     "text": [
      "Train | Avg_loss: 2.792250, Accuracy: 27.7%\n",
      "Validation | Avg_loss: 2.459077, Accuracy: 37.3%\n"
     ]
    },
    {
     "name": "stderr",
     "output_type": "stream",
     "text": [
      "epoch 28: 100%|████████████████████████████████████████████████| 124/124 [04:25<00:00,  2.14s/it, loss=2.87, acc=0.217]\n"
     ]
    },
    {
     "name": "stdout",
     "output_type": "stream",
     "text": [
      "Train | Avg_loss: 2.793654, Accuracy: 27.9%\n",
      "Validation | Avg_loss: 2.439183, Accuracy: 37.7%\n"
     ]
    },
    {
     "name": "stderr",
     "output_type": "stream",
     "text": [
      "epoch 29: 100%|████████████████████████████████████████████████| 124/124 [03:58<00:00,  1.92s/it, loss=2.59, acc=0.267]\n"
     ]
    },
    {
     "name": "stdout",
     "output_type": "stream",
     "text": [
      "Train | Avg_loss: 2.763896, Accuracy: 28.4%\n",
      "Validation | Avg_loss: 2.435068, Accuracy: 39.1%\n",
      "new best acc: 0.390625\n"
     ]
    },
    {
     "name": "stderr",
     "output_type": "stream",
     "text": [
      "epoch 30: 100%|████████████████████████████████████████████████| 124/124 [03:50<00:00,  1.86s/it, loss=2.37, acc=0.533]\n"
     ]
    },
    {
     "name": "stdout",
     "output_type": "stream",
     "text": [
      "Train | Avg_loss: 2.764392, Accuracy: 29.1%\n",
      "Validation | Avg_loss: 2.443833, Accuracy: 39.5%\n",
      "new best acc: 0.39453125\n"
     ]
    },
    {
     "data": {
      "image/png": "[encoded data removed]",
      "text/plain": [
       "<Figure size 1000x600 with 2 Axes>"
      ]
     },
     "metadata": {},
     "output_type": "display_data"
    },
    {
     "name": "stderr",
     "output_type": "stream",
     "text": [
      "epoch 31: 100%|████████████████████████████████████████████████| 124/124 [03:49<00:00,  1.85s/it, loss=2.64, acc=0.333]\n"
     ]
    },
    {
     "name": "stdout",
     "output_type": "stream",
     "text": [
      "Train | Avg_loss: 2.769424, Accuracy: 28.3%\n",
      "Validation | Avg_loss: 2.412225, Accuracy: 39.1%\n"
     ]
    },
    {
     "name": "stderr",
     "output_type": "stream",
     "text": [
      "epoch 32: 100%|████████████████████████████████████████████████| 124/124 [03:50<00:00,  1.86s/it, loss=2.75, acc=0.333]\n"
     ]
    },
    {
     "name": "stdout",
     "output_type": "stream",
     "text": [
      "Train | Avg_loss: 2.755272, Accuracy: 29.1%\n",
      "Validation | Avg_loss: 2.426684, Accuracy: 38.9%\n"
     ]
    },
    {
     "name": "stderr",
     "output_type": "stream",
     "text": [
      "epoch 33: 100%|████████████████████████████████████████████████| 124/124 [03:50<00:00,  1.86s/it, loss=2.98, acc=0.283]\n"
     ]
    },
    {
     "name": "stdout",
     "output_type": "stream",
     "text": [
      "Train | Avg_loss: 2.755076, Accuracy: 28.8%\n",
      "Validation | Avg_loss: 2.441309, Accuracy: 40.6%\n",
      "new best acc: 0.40625\n"
     ]
    },
    {
     "name": "stderr",
     "output_type": "stream",
     "text": [
      "epoch 34: 100%|████████████████████████████████████████████████| 124/124 [03:50<00:00,  1.86s/it, loss=2.83, acc=0.233]\n"
     ]
    },
    {
     "name": "stdout",
     "output_type": "stream",
     "text": [
      "Train | Avg_loss: 2.749107, Accuracy: 29.1%\n",
      "Validation | Avg_loss: 2.416808, Accuracy: 39.1%\n"
     ]
    },
    {
     "name": "stderr",
     "output_type": "stream",
     "text": [
      "epoch 35: 100%|██████████████████████████████████████████████████| 124/124 [03:51<00:00,  1.87s/it, loss=2.57, acc=0.4]\n"
     ]
    },
    {
     "name": "stdout",
     "output_type": "stream",
     "text": [
      "Train | Avg_loss: 2.726098, Accuracy: 29.6%\n",
      "Validation | Avg_loss: 2.419861, Accuracy: 40.2%\n"
     ]
    },
    {
     "name": "stderr",
     "output_type": "stream",
     "text": [
      "epoch 36: 100%|████████████████████████████████████████████████| 124/124 [03:49<00:00,  1.85s/it, loss=2.94, acc=0.117]\n"
     ]
    },
    {
     "name": "stdout",
     "output_type": "stream",
     "text": [
      "Train | Avg_loss: 2.722555, Accuracy: 29.7%\n",
      "Validation | Avg_loss: 2.393884, Accuracy: 41.2%\n",
      "new best acc: 0.4117542654275894\n"
     ]
    },
    {
     "name": "stderr",
     "output_type": "stream",
     "text": [
      "epoch 37: 100%|███████████████████████████████████████████████████| 124/124 [03:49<00:00,  1.85s/it, loss=3.3, acc=0.2]\n"
     ]
    },
    {
     "name": "stdout",
     "output_type": "stream",
     "text": [
      "Train | Avg_loss: 2.719269, Accuracy: 29.6%\n",
      "Validation | Avg_loss: 2.398077, Accuracy: 40.2%\n"
     ]
    },
    {
     "name": "stderr",
     "output_type": "stream",
     "text": [
      "epoch 38: 100%|████████████████████████████████████████████████| 124/124 [03:49<00:00,  1.85s/it, loss=2.71, acc=0.333]\n"
     ]
    },
    {
     "name": "stdout",
     "output_type": "stream",
     "text": [
      "Train | Avg_loss: 2.705095, Accuracy: 29.5%\n",
      "Validation | Avg_loss: 2.406942, Accuracy: 38.9%\n"
     ]
    },
    {
     "name": "stderr",
     "output_type": "stream",
     "text": [
      "epoch 39: 100%|██████████████████████████████████████████████████| 124/124 [03:48<00:00,  1.84s/it, loss=2.78, acc=0.3]\n"
     ]
    },
    {
     "name": "stdout",
     "output_type": "stream",
     "text": [
      "Train | Avg_loss: 2.707050, Accuracy: 29.9%\n",
      "Validation | Avg_loss: 2.395130, Accuracy: 41.0%\n"
     ]
    },
    {
     "name": "stderr",
     "output_type": "stream",
     "text": [
      "epoch 40: 100%|████████████████████████████████████████████████| 124/124 [03:48<00:00,  1.84s/it, loss=2.31, acc=0.433]\n"
     ]
    },
    {
     "name": "stdout",
     "output_type": "stream",
     "text": [
      "Train | Avg_loss: 2.699270, Accuracy: 30.0%\n",
      "Validation | Avg_loss: 2.394688, Accuracy: 39.8%\n"
     ]
    },
    {
     "data": {
      "image/png": "[encoded data removed]",
      "text/plain": [
       "<Figure size 1000x600 with 2 Axes>"
      ]
     },
     "metadata": {},
     "output_type": "display_data"
    },
    {
     "name": "stderr",
     "output_type": "stream",
     "text": [
      "epoch 41: 100%|████████████████████████████████████████████████| 124/124 [03:49<00:00,  1.85s/it, loss=2.46, acc=0.383]\n"
     ]
    },
    {
     "name": "stdout",
     "output_type": "stream",
     "text": [
      "Train | Avg_loss: 2.675844, Accuracy: 30.7%\n",
      "Validation | Avg_loss: 2.393635, Accuracy: 41.0%\n"
     ]
    },
    {
     "name": "stderr",
     "output_type": "stream",
     "text": [
      "epoch 42: 100%|████████████████████████████████████████████████| 124/124 [03:48<00:00,  1.84s/it, loss=2.82, acc=0.283]\n"
     ]
    },
    {
     "name": "stdout",
     "output_type": "stream",
     "text": [
      "Train | Avg_loss: 2.687890, Accuracy: 30.7%\n",
      "Validation | Avg_loss: 2.405850, Accuracy: 39.6%\n"
     ]
    },
    {
     "name": "stderr",
     "output_type": "stream",
     "text": [
      "epoch 43: 100%|█████████████████████████████████████████████████| 124/124 [03:48<00:00,  1.84s/it, loss=2.5, acc=0.333]\n"
     ]
    },
    {
     "name": "stdout",
     "output_type": "stream",
     "text": [
      "Train | Avg_loss: 2.675917, Accuracy: 30.2%\n",
      "Validation | Avg_loss: 2.379216, Accuracy: 41.2%\n"
     ]
    },
    {
     "name": "stderr",
     "output_type": "stream",
     "text": [
      "epoch 44: 100%|██████████████████████████████████████████████████| 124/124 [03:48<00:00,  1.84s/it, loss=2.51, acc=0.3]\n"
     ]
    },
    {
     "name": "stdout",
     "output_type": "stream",
     "text": [
      "Train | Avg_loss: 2.670345, Accuracy: 30.4%\n",
      "Validation | Avg_loss: 2.373161, Accuracy: 41.0%\n"
     ]
    },
    {
     "name": "stderr",
     "output_type": "stream",
     "text": [
      "epoch 45: 100%|████████████████████████████████████████████████| 124/124 [03:50<00:00,  1.85s/it, loss=2.91, acc=0.283]\n"
     ]
    },
    {
     "name": "stdout",
     "output_type": "stream",
     "text": [
      "Train | Avg_loss: 2.673130, Accuracy: 30.7%\n",
      "Validation | Avg_loss: 2.372308, Accuracy: 40.6%\n"
     ]
    },
    {
     "name": "stderr",
     "output_type": "stream",
     "text": [
      "epoch 46: 100%|██████████████████████████████████████████████████| 124/124 [03:49<00:00,  1.85s/it, loss=2.65, acc=0.3]\n"
     ]
    },
    {
     "name": "stdout",
     "output_type": "stream",
     "text": [
      "Train | Avg_loss: 2.675919, Accuracy: 29.9%\n",
      "Validation | Avg_loss: 2.370864, Accuracy: 40.4%\n"
     ]
    },
    {
     "name": "stderr",
     "output_type": "stream",
     "text": [
      "epoch 47: 100%|████████████████████████████████████████████████| 124/124 [03:48<00:00,  1.84s/it, loss=2.79, acc=0.267]\n"
     ]
    },
    {
     "name": "stdout",
     "output_type": "stream",
     "text": [
      "Train | Avg_loss: 2.664446, Accuracy: 31.1%\n",
      "Validation | Avg_loss: 2.358885, Accuracy: 40.0%\n"
     ]
    },
    {
     "name": "stderr",
     "output_type": "stream",
     "text": [
      "epoch 48: 100%|█████████████████████████████████████████████████| 124/124 [03:52<00:00,  1.87s/it, loss=2.47, acc=0.35]\n"
     ]
    },
    {
     "name": "stdout",
     "output_type": "stream",
     "text": [
      "Train | Avg_loss: 2.647109, Accuracy: 31.4%\n",
      "Validation | Avg_loss: 2.366704, Accuracy: 40.2%\n"
     ]
    },
    {
     "name": "stderr",
     "output_type": "stream",
     "text": [
      "epoch 49: 100%|████████████████████████████████████████████████| 124/124 [03:54<00:00,  1.89s/it, loss=2.64, acc=0.317]\n"
     ]
    },
    {
     "name": "stdout",
     "output_type": "stream",
     "text": [
      "Train | Avg_loss: 2.643863, Accuracy: 30.9%\n",
      "Validation | Avg_loss: 2.366988, Accuracy: 41.2%\n"
     ]
    },
    {
     "name": "stderr",
     "output_type": "stream",
     "text": [
      "epoch 50: 100%|████████████████████████████████████████████████| 124/124 [03:56<00:00,  1.91s/it, loss=2.39, acc=0.367]\n"
     ]
    },
    {
     "name": "stdout",
     "output_type": "stream",
     "text": [
      "Train | Avg_loss: 2.645271, Accuracy: 30.9%\n",
      "Validation | Avg_loss: 2.347389, Accuracy: 41.0%\n"
     ]
    },
    {
     "data": {
      "image/png": "[encoded data removed]",
      "text/plain": [
       "<Figure size 1000x600 with 2 Axes>"
      ]
     },
     "metadata": {},
     "output_type": "display_data"
    }
   ],
   "source": [
    "max_epoch = 50\n",
    "min_epoch = 0\n",
    "for e in range(min_epoch+1, max_epoch+1):\n",
    "    train_loss, train_acc = train_loop(office_train_dataloader, p2_model, loss_fn, optimizer)\n",
    "    val_loss, val_acc = val_loop(office_val_dataloader, p2_model, loss_fn)\n",
    "    record_append(record, train_loss, train_acc, val_loss, val_acc)\n",
    "    if val_acc>best_acc:\n",
    "        best_acc = val_acc\n",
    "        best_model.load_state_dict(p2_model.state_dict())\n",
    "        print(f'new best acc: {best_acc}')\n",
    "        torch.save(p2_model, 'p2_ckpt/best_model_E.pt')\n",
    "    if e%10==0:\n",
    "        plot_record(record)\n",
    "min_epoch = e"
   ]
  },
  {
   "cell_type": "code",
   "execution_count": 16,
   "id": "07c3c2c7",
   "metadata": {},
   "outputs": [],
   "source": [
    "torch.save(p2_model, 'p2_ckpt/model_E.pt')"
   ]
  },
  {
   "cell_type": "code",
   "execution_count": null,
   "id": "92f23a3d",
   "metadata": {},
   "outputs": [],
   "source": []
  },
  {
   "cell_type": "code",
   "execution_count": null,
   "id": "7818e5d1",
   "metadata": {},
   "outputs": [],
   "source": []
  },
  {
   "cell_type": "code",
   "execution_count": null,
   "id": "6a4c3b6d",
   "metadata": {},
   "outputs": [],
   "source": []
  },
  {
   "cell_type": "code",
   "execution_count": null,
   "id": "2e8ee1ad",
   "metadata": {},
   "outputs": [],
   "source": []
  },
  {
   "cell_type": "code",
   "execution_count": null,
   "id": "041f8048",
   "metadata": {},
   "outputs": [],
   "source": []
  },
  {
   "cell_type": "code",
   "execution_count": null,
   "id": "4dd8bb29",
   "metadata": {},
   "outputs": [],
   "source": []
  },
  {
   "cell_type": "code",
   "execution_count": 58,
   "id": "c578cfb9",
   "metadata": {},
   "outputs": [
    {
     "name": "stdout",
     "output_type": "stream",
     "text": [
      "cuda:0\n"
     ]
    }
   ],
   "source": [
    "device = torch.device('cuda:0' if torch.cuda.is_available() else 'cpu')\n",
    "print(device)"
   ]
  },
  {
   "cell_type": "code",
   "execution_count": 59,
   "id": "8e02de66",
   "metadata": {},
   "outputs": [],
   "source": [
    "def same_seeds(seed):\n",
    "    np.random.seed(seed)\n",
    "    torch.manual_seed(seed)\n",
    "same_seeds(777)"
   ]
  },
  {
   "cell_type": "code",
   "execution_count": 60,
   "id": "9b0fa7c9",
   "metadata": {},
   "outputs": [],
   "source": [
    "label2class_dict = {0: 'TV', 1: 'Desk_Lamp', 2: 'Speaker', 3: 'Hammer', 4: 'Folder', 5: 'Laptop', 6: 'Pen', 7: 'Postit_Notes',\n",
    "    8: 'Mop', 9: 'Mug', 10: 'Radio', 11: 'File_Cabinet', 12: 'Eraser', 13: 'Ruler', 14: 'Couch', 15: 'Trash_Can', 16: 'Webcam', \n",
    "    17: 'Backpack', 18: 'Bucket', 19: 'Kettle', 20: 'Batteries', 21: 'Telephone', 22: 'Chair', 23: 'Toys', 24: 'Refrigerator',\n",
    "    25: 'Clipboards', 26: 'Fork', 27: 'Push_Pin', 28: 'Marker', 29: 'Candles', 30: 'Flipflops', 31: 'Helmet', 32: 'Pencil',\n",
    "    33: 'Calendar', 34: 'Monitor', 35: 'Shelf', 36: 'Sneakers', 37: 'Soda', 38: 'Bottle', 39: 'Flowers', 40: 'Drill', 41: 'Table',\n",
    "    42: 'Knives', 43: 'Computer', 44: 'Alarm_Clock',  45: 'Sink', 46: 'Exit_Sign', 47: 'Bed', 48: 'Oven', 49: 'Keyboard', \n",
    "    50: 'Paper_Clip', 51: 'Lamp_Shade', 52: 'Scissors', 53: 'Curtains', 54: 'Fan', 55: 'Spoon', 56: 'Screwdriver', 57: 'Glasses',\n",
    "    58: 'Pan', 59: 'ToothBrush', 60: 'Mouse', 61: 'Printer', 62: 'Calculator', 63: 'Notebook', 64: 'Bike'}"
   ]
  },
  {
   "cell_type": "code",
   "execution_count": 61,
   "id": "ec52878a",
   "metadata": {},
   "outputs": [],
   "source": [
    "class Test_Dataset(Dataset):\n",
    "    def __init__(self, img_dir, csv_path, transform=None):\n",
    "        self.gt = pd.read_csv(csv_path)\n",
    "        self.img_dir = img_dir\n",
    "        self.transform = transform\n",
    "\n",
    "    def __len__(self):\n",
    "        return len(self.gt)\n",
    "\n",
    "    def __getitem__(self, idx):\n",
    "        idx_row = self.gt.loc[idx]\n",
    "        img_name = idx_row['filename']\n",
    "        img_path = f'{self.img_dir}/{img_name}'\n",
    "        image = Image.open(img_path)\n",
    "        csv_id = idx_row['id']\n",
    "        if self.transform:\n",
    "            image = self.transform(image)\n",
    "        return image, csv_id"
   ]
  },
  {
   "cell_type": "code",
   "execution_count": 62,
   "id": "b8b279f6",
   "metadata": {},
   "outputs": [],
   "source": [
    "batch_size = 128\n",
    "transform_test = transforms.Compose([transforms.Resize(128),\n",
    "                                transforms.CenterCrop((128,128)),\n",
    "                                transforms.ToTensor(),\n",
    "                                transforms.Normalize(mean=[0.485, 0.456, 0.406],\n",
    "                                                     std=[0.229, 0.224, 0.225])\n",
    "                               ])"
   ]
  },
  {
   "cell_type": "code",
   "execution_count": 63,
   "id": "6e015638",
   "metadata": {},
   "outputs": [],
   "source": [
    "office_test_img_dir = 'D:/NTU/DLCV/hw4/hw4_data/office/val/'\n",
    "office_test_csv_path = 'D:/NTU/DLCV/hw4/hw4_data/office/test.csv'\n",
    "\n",
    "office_test_dataset = Test_Dataset(office_test_img_dir, office_test_csv_path, transform=transform_test)\n",
    "office_test_dataloader = DataLoader(office_test_dataset, batch_size=batch_size, shuffle=True, pin_memory=True)"
   ]
  },
  {
   "cell_type": "code",
   "execution_count": 64,
   "id": "7f19d0ae",
   "metadata": {},
   "outputs": [
    {
     "data": {
      "text/plain": [
       "model_ft(\n",
       "  (backbone): ResNet(\n",
       "    (conv1): Conv2d(3, 64, kernel_size=(7, 7), stride=(2, 2), padding=(3, 3), bias=False)\n",
       "    (bn1): BatchNorm2d(64, eps=1e-05, momentum=0.1, affine=True, track_running_stats=True)\n",
       "    (relu): ReLU(inplace=True)\n",
       "    (maxpool): MaxPool2d(kernel_size=3, stride=2, padding=1, dilation=1, ceil_mode=False)\n",
       "    (layer1): Sequential(\n",
       "      (0): Bottleneck(\n",
       "        (conv1): Conv2d(64, 64, kernel_size=(1, 1), stride=(1, 1), bias=False)\n",
       "        (bn1): BatchNorm2d(64, eps=1e-05, momentum=0.1, affine=True, track_running_stats=True)\n",
       "        (conv2): Conv2d(64, 64, kernel_size=(3, 3), stride=(1, 1), padding=(1, 1), bias=False)\n",
       "        (bn2): BatchNorm2d(64, eps=1e-05, momentum=0.1, affine=True, track_running_stats=True)\n",
       "        (conv3): Conv2d(64, 256, kernel_size=(1, 1), stride=(1, 1), bias=False)\n",
       "        (bn3): BatchNorm2d(256, eps=1e-05, momentum=0.1, affine=True, track_running_stats=True)\n",
       "        (relu): ReLU(inplace=True)\n",
       "        (downsample): Sequential(\n",
       "          (0): Conv2d(64, 256, kernel_size=(1, 1), stride=(1, 1), bias=False)\n",
       "          (1): BatchNorm2d(256, eps=1e-05, momentum=0.1, affine=True, track_running_stats=True)\n",
       "        )\n",
       "      )\n",
       "      (1): Bottleneck(\n",
       "        (conv1): Conv2d(256, 64, kernel_size=(1, 1), stride=(1, 1), bias=False)\n",
       "        (bn1): BatchNorm2d(64, eps=1e-05, momentum=0.1, affine=True, track_running_stats=True)\n",
       "        (conv2): Conv2d(64, 64, kernel_size=(3, 3), stride=(1, 1), padding=(1, 1), bias=False)\n",
       "        (bn2): BatchNorm2d(64, eps=1e-05, momentum=0.1, affine=True, track_running_stats=True)\n",
       "        (conv3): Conv2d(64, 256, kernel_size=(1, 1), stride=(1, 1), bias=False)\n",
       "        (bn3): BatchNorm2d(256, eps=1e-05, momentum=0.1, affine=True, track_running_stats=True)\n",
       "        (relu): ReLU(inplace=True)\n",
       "      )\n",
       "      (2): Bottleneck(\n",
       "        (conv1): Conv2d(256, 64, kernel_size=(1, 1), stride=(1, 1), bias=False)\n",
       "        (bn1): BatchNorm2d(64, eps=1e-05, momentum=0.1, affine=True, track_running_stats=True)\n",
       "        (conv2): Conv2d(64, 64, kernel_size=(3, 3), stride=(1, 1), padding=(1, 1), bias=False)\n",
       "        (bn2): BatchNorm2d(64, eps=1e-05, momentum=0.1, affine=True, track_running_stats=True)\n",
       "        (conv3): Conv2d(64, 256, kernel_size=(1, 1), stride=(1, 1), bias=False)\n",
       "        (bn3): BatchNorm2d(256, eps=1e-05, momentum=0.1, affine=True, track_running_stats=True)\n",
       "        (relu): ReLU(inplace=True)\n",
       "      )\n",
       "    )\n",
       "    (layer2): Sequential(\n",
       "      (0): Bottleneck(\n",
       "        (conv1): Conv2d(256, 128, kernel_size=(1, 1), stride=(1, 1), bias=False)\n",
       "        (bn1): BatchNorm2d(128, eps=1e-05, momentum=0.1, affine=True, track_running_stats=True)\n",
       "        (conv2): Conv2d(128, 128, kernel_size=(3, 3), stride=(2, 2), padding=(1, 1), bias=False)\n",
       "        (bn2): BatchNorm2d(128, eps=1e-05, momentum=0.1, affine=True, track_running_stats=True)\n",
       "        (conv3): Conv2d(128, 512, kernel_size=(1, 1), stride=(1, 1), bias=False)\n",
       "        (bn3): BatchNorm2d(512, eps=1e-05, momentum=0.1, affine=True, track_running_stats=True)\n",
       "        (relu): ReLU(inplace=True)\n",
       "        (downsample): Sequential(\n",
       "          (0): Conv2d(256, 512, kernel_size=(1, 1), stride=(2, 2), bias=False)\n",
       "          (1): BatchNorm2d(512, eps=1e-05, momentum=0.1, affine=True, track_running_stats=True)\n",
       "        )\n",
       "      )\n",
       "      (1): Bottleneck(\n",
       "        (conv1): Conv2d(512, 128, kernel_size=(1, 1), stride=(1, 1), bias=False)\n",
       "        (bn1): BatchNorm2d(128, eps=1e-05, momentum=0.1, affine=True, track_running_stats=True)\n",
       "        (conv2): Conv2d(128, 128, kernel_size=(3, 3), stride=(1, 1), padding=(1, 1), bias=False)\n",
       "        (bn2): BatchNorm2d(128, eps=1e-05, momentum=0.1, affine=True, track_running_stats=True)\n",
       "        (conv3): Conv2d(128, 512, kernel_size=(1, 1), stride=(1, 1), bias=False)\n",
       "        (bn3): BatchNorm2d(512, eps=1e-05, momentum=0.1, affine=True, track_running_stats=True)\n",
       "        (relu): ReLU(inplace=True)\n",
       "      )\n",
       "      (2): Bottleneck(\n",
       "        (conv1): Conv2d(512, 128, kernel_size=(1, 1), stride=(1, 1), bias=False)\n",
       "        (bn1): BatchNorm2d(128, eps=1e-05, momentum=0.1, affine=True, track_running_stats=True)\n",
       "        (conv2): Conv2d(128, 128, kernel_size=(3, 3), stride=(1, 1), padding=(1, 1), bias=False)\n",
       "        (bn2): BatchNorm2d(128, eps=1e-05, momentum=0.1, affine=True, track_running_stats=True)\n",
       "        (conv3): Conv2d(128, 512, kernel_size=(1, 1), stride=(1, 1), bias=False)\n",
       "        (bn3): BatchNorm2d(512, eps=1e-05, momentum=0.1, affine=True, track_running_stats=True)\n",
       "        (relu): ReLU(inplace=True)\n",
       "      )\n",
       "      (3): Bottleneck(\n",
       "        (conv1): Conv2d(512, 128, kernel_size=(1, 1), stride=(1, 1), bias=False)\n",
       "        (bn1): BatchNorm2d(128, eps=1e-05, momentum=0.1, affine=True, track_running_stats=True)\n",
       "        (conv2): Conv2d(128, 128, kernel_size=(3, 3), stride=(1, 1), padding=(1, 1), bias=False)\n",
       "        (bn2): BatchNorm2d(128, eps=1e-05, momentum=0.1, affine=True, track_running_stats=True)\n",
       "        (conv3): Conv2d(128, 512, kernel_size=(1, 1), stride=(1, 1), bias=False)\n",
       "        (bn3): BatchNorm2d(512, eps=1e-05, momentum=0.1, affine=True, track_running_stats=True)\n",
       "        (relu): ReLU(inplace=True)\n",
       "      )\n",
       "    )\n",
       "    (layer3): Sequential(\n",
       "      (0): Bottleneck(\n",
       "        (conv1): Conv2d(512, 256, kernel_size=(1, 1), stride=(1, 1), bias=False)\n",
       "        (bn1): BatchNorm2d(256, eps=1e-05, momentum=0.1, affine=True, track_running_stats=True)\n",
       "        (conv2): Conv2d(256, 256, kernel_size=(3, 3), stride=(2, 2), padding=(1, 1), bias=False)\n",
       "        (bn2): BatchNorm2d(256, eps=1e-05, momentum=0.1, affine=True, track_running_stats=True)\n",
       "        (conv3): Conv2d(256, 1024, kernel_size=(1, 1), stride=(1, 1), bias=False)\n",
       "        (bn3): BatchNorm2d(1024, eps=1e-05, momentum=0.1, affine=True, track_running_stats=True)\n",
       "        (relu): ReLU(inplace=True)\n",
       "        (downsample): Sequential(\n",
       "          (0): Conv2d(512, 1024, kernel_size=(1, 1), stride=(2, 2), bias=False)\n",
       "          (1): BatchNorm2d(1024, eps=1e-05, momentum=0.1, affine=True, track_running_stats=True)\n",
       "        )\n",
       "      )\n",
       "      (1): Bottleneck(\n",
       "        (conv1): Conv2d(1024, 256, kernel_size=(1, 1), stride=(1, 1), bias=False)\n",
       "        (bn1): BatchNorm2d(256, eps=1e-05, momentum=0.1, affine=True, track_running_stats=True)\n",
       "        (conv2): Conv2d(256, 256, kernel_size=(3, 3), stride=(1, 1), padding=(1, 1), bias=False)\n",
       "        (bn2): BatchNorm2d(256, eps=1e-05, momentum=0.1, affine=True, track_running_stats=True)\n",
       "        (conv3): Conv2d(256, 1024, kernel_size=(1, 1), stride=(1, 1), bias=False)\n",
       "        (bn3): BatchNorm2d(1024, eps=1e-05, momentum=0.1, affine=True, track_running_stats=True)\n",
       "        (relu): ReLU(inplace=True)\n",
       "      )\n",
       "      (2): Bottleneck(\n",
       "        (conv1): Conv2d(1024, 256, kernel_size=(1, 1), stride=(1, 1), bias=False)\n",
       "        (bn1): BatchNorm2d(256, eps=1e-05, momentum=0.1, affine=True, track_running_stats=True)\n",
       "        (conv2): Conv2d(256, 256, kernel_size=(3, 3), stride=(1, 1), padding=(1, 1), bias=False)\n",
       "        (bn2): BatchNorm2d(256, eps=1e-05, momentum=0.1, affine=True, track_running_stats=True)\n",
       "        (conv3): Conv2d(256, 1024, kernel_size=(1, 1), stride=(1, 1), bias=False)\n",
       "        (bn3): BatchNorm2d(1024, eps=1e-05, momentum=0.1, affine=True, track_running_stats=True)\n",
       "        (relu): ReLU(inplace=True)\n",
       "      )\n",
       "      (3): Bottleneck(\n",
       "        (conv1): Conv2d(1024, 256, kernel_size=(1, 1), stride=(1, 1), bias=False)\n",
       "        (bn1): BatchNorm2d(256, eps=1e-05, momentum=0.1, affine=True, track_running_stats=True)\n",
       "        (conv2): Conv2d(256, 256, kernel_size=(3, 3), stride=(1, 1), padding=(1, 1), bias=False)\n",
       "        (bn2): BatchNorm2d(256, eps=1e-05, momentum=0.1, affine=True, track_running_stats=True)\n",
       "        (conv3): Conv2d(256, 1024, kernel_size=(1, 1), stride=(1, 1), bias=False)\n",
       "        (bn3): BatchNorm2d(1024, eps=1e-05, momentum=0.1, affine=True, track_running_stats=True)\n",
       "        (relu): ReLU(inplace=True)\n",
       "      )\n",
       "      (4): Bottleneck(\n",
       "        (conv1): Conv2d(1024, 256, kernel_size=(1, 1), stride=(1, 1), bias=False)\n",
       "        (bn1): BatchNorm2d(256, eps=1e-05, momentum=0.1, affine=True, track_running_stats=True)\n",
       "        (conv2): Conv2d(256, 256, kernel_size=(3, 3), stride=(1, 1), padding=(1, 1), bias=False)\n",
       "        (bn2): BatchNorm2d(256, eps=1e-05, momentum=0.1, affine=True, track_running_stats=True)\n",
       "        (conv3): Conv2d(256, 1024, kernel_size=(1, 1), stride=(1, 1), bias=False)\n",
       "        (bn3): BatchNorm2d(1024, eps=1e-05, momentum=0.1, affine=True, track_running_stats=True)\n",
       "        (relu): ReLU(inplace=True)\n",
       "      )\n",
       "      (5): Bottleneck(\n",
       "        (conv1): Conv2d(1024, 256, kernel_size=(1, 1), stride=(1, 1), bias=False)\n",
       "        (bn1): BatchNorm2d(256, eps=1e-05, momentum=0.1, affine=True, track_running_stats=True)\n",
       "        (conv2): Conv2d(256, 256, kernel_size=(3, 3), stride=(1, 1), padding=(1, 1), bias=False)\n",
       "        (bn2): BatchNorm2d(256, eps=1e-05, momentum=0.1, affine=True, track_running_stats=True)\n",
       "        (conv3): Conv2d(256, 1024, kernel_size=(1, 1), stride=(1, 1), bias=False)\n",
       "        (bn3): BatchNorm2d(1024, eps=1e-05, momentum=0.1, affine=True, track_running_stats=True)\n",
       "        (relu): ReLU(inplace=True)\n",
       "      )\n",
       "    )\n",
       "    (layer4): Sequential(\n",
       "      (0): Bottleneck(\n",
       "        (conv1): Conv2d(1024, 512, kernel_size=(1, 1), stride=(1, 1), bias=False)\n",
       "        (bn1): BatchNorm2d(512, eps=1e-05, momentum=0.1, affine=True, track_running_stats=True)\n",
       "        (conv2): Conv2d(512, 512, kernel_size=(3, 3), stride=(2, 2), padding=(1, 1), bias=False)\n",
       "        (bn2): BatchNorm2d(512, eps=1e-05, momentum=0.1, affine=True, track_running_stats=True)\n",
       "        (conv3): Conv2d(512, 2048, kernel_size=(1, 1), stride=(1, 1), bias=False)\n",
       "        (bn3): BatchNorm2d(2048, eps=1e-05, momentum=0.1, affine=True, track_running_stats=True)\n",
       "        (relu): ReLU(inplace=True)\n",
       "        (downsample): Sequential(\n",
       "          (0): Conv2d(1024, 2048, kernel_size=(1, 1), stride=(2, 2), bias=False)\n",
       "          (1): BatchNorm2d(2048, eps=1e-05, momentum=0.1, affine=True, track_running_stats=True)\n",
       "        )\n",
       "      )\n",
       "      (1): Bottleneck(\n",
       "        (conv1): Conv2d(2048, 512, kernel_size=(1, 1), stride=(1, 1), bias=False)\n",
       "        (bn1): BatchNorm2d(512, eps=1e-05, momentum=0.1, affine=True, track_running_stats=True)\n",
       "        (conv2): Conv2d(512, 512, kernel_size=(3, 3), stride=(1, 1), padding=(1, 1), bias=False)\n",
       "        (bn2): BatchNorm2d(512, eps=1e-05, momentum=0.1, affine=True, track_running_stats=True)\n",
       "        (conv3): Conv2d(512, 2048, kernel_size=(1, 1), stride=(1, 1), bias=False)\n",
       "        (bn3): BatchNorm2d(2048, eps=1e-05, momentum=0.1, affine=True, track_running_stats=True)\n",
       "        (relu): ReLU(inplace=True)\n",
       "      )\n",
       "      (2): Bottleneck(\n",
       "        (conv1): Conv2d(2048, 512, kernel_size=(1, 1), stride=(1, 1), bias=False)\n",
       "        (bn1): BatchNorm2d(512, eps=1e-05, momentum=0.1, affine=True, track_running_stats=True)\n",
       "        (conv2): Conv2d(512, 512, kernel_size=(3, 3), stride=(1, 1), padding=(1, 1), bias=False)\n",
       "        (bn2): BatchNorm2d(512, eps=1e-05, momentum=0.1, affine=True, track_running_stats=True)\n",
       "        (conv3): Conv2d(512, 2048, kernel_size=(1, 1), stride=(1, 1), bias=False)\n",
       "        (bn3): BatchNorm2d(2048, eps=1e-05, momentum=0.1, affine=True, track_running_stats=True)\n",
       "        (relu): ReLU(inplace=True)\n",
       "      )\n",
       "    )\n",
       "    (avgpool): AdaptiveAvgPool2d(output_size=(1, 1))\n",
       "    (fc): Linear(in_features=2048, out_features=1000, bias=True)\n",
       "  )\n",
       "  (classifier): Sequential(\n",
       "    (0): BatchNorm1d(1000, eps=1e-05, momentum=0.1, affine=True, track_running_stats=True)\n",
       "    (1): ReLU()\n",
       "    (2): Dropout(p=0.5, inplace=False)\n",
       "    (3): Linear(in_features=1000, out_features=512, bias=True)\n",
       "    (4): BatchNorm1d(512, eps=1e-05, momentum=0.1, affine=True, track_running_stats=True)\n",
       "    (5): ReLU()\n",
       "    (6): Dropout(p=0.5, inplace=False)\n",
       "    (7): Linear(in_features=512, out_features=65, bias=True)\n",
       "  )\n",
       ")"
      ]
     },
     "execution_count": 64,
     "metadata": {},
     "output_type": "execute_result"
    }
   ],
   "source": [
    "class model_ft(nn.Module):\n",
    "    def __init__(self):\n",
    "        super(model_ft, self).__init__()\n",
    "        self.backbone = models.resnet50(weights=None)\n",
    "        self.classifier = nn.Sequential(nn.BatchNorm1d(1000),\n",
    "                                        nn.ReLU(),\n",
    "                                        nn.Dropout(p=0.5),\n",
    "                                        nn.Linear(1000, 512),\n",
    "                                        nn.BatchNorm1d(512),\n",
    "                                        nn.ReLU(),\n",
    "                                        nn.Dropout(p=0.5),\n",
    "                                        nn.Linear(512, 65)\n",
    "                                       )\n",
    "    def forward(self, x):\n",
    "        x = self.backbone(x)\n",
    "        x = self.classifier(x)\n",
    "        return x\n",
    "    \n",
    "p2_model = model_ft()\n",
    "p2_model = torch.load('p2_ckpt/best_model_C.pt')\n",
    "p2_model.to(device)"
   ]
  },
  {
   "cell_type": "code",
   "execution_count": 65,
   "id": "7f6ef504",
   "metadata": {},
   "outputs": [
    {
     "data": {
      "text/html": [
       "<div>\n",
       "<style scoped>\n",
       "    .dataframe tbody tr th:only-of-type {\n",
       "        vertical-align: middle;\n",
       "    }\n",
       "\n",
       "    .dataframe tbody tr th {\n",
       "        vertical-align: top;\n",
       "    }\n",
       "\n",
       "    .dataframe thead th {\n",
       "        text-align: right;\n",
       "    }\n",
       "</style>\n",
       "<table border=\"1\" class=\"dataframe\">\n",
       "  <thead>\n",
       "    <tr style=\"text-align: right;\">\n",
       "      <th></th>\n",
       "      <th>id</th>\n",
       "      <th>filename</th>\n",
       "      <th>label</th>\n",
       "    </tr>\n",
       "  </thead>\n",
       "  <tbody>\n",
       "    <tr>\n",
       "      <th>0</th>\n",
       "      <td>0</td>\n",
       "      <td>Fork00005.jpg</td>\n",
       "      <td>None</td>\n",
       "    </tr>\n",
       "    <tr>\n",
       "      <th>1</th>\n",
       "      <td>1</td>\n",
       "      <td>Fork00002.jpg</td>\n",
       "      <td>None</td>\n",
       "    </tr>\n",
       "    <tr>\n",
       "      <th>2</th>\n",
       "      <td>2</td>\n",
       "      <td>Fork00032.jpg</td>\n",
       "      <td>None</td>\n",
       "    </tr>\n",
       "    <tr>\n",
       "      <th>3</th>\n",
       "      <td>3</td>\n",
       "      <td>Radio00039.jpg</td>\n",
       "      <td>None</td>\n",
       "    </tr>\n",
       "    <tr>\n",
       "      <th>4</th>\n",
       "      <td>4</td>\n",
       "      <td>Radio00020.jpg</td>\n",
       "      <td>None</td>\n",
       "    </tr>\n",
       "    <tr>\n",
       "      <th>...</th>\n",
       "      <td>...</td>\n",
       "      <td>...</td>\n",
       "      <td>...</td>\n",
       "    </tr>\n",
       "    <tr>\n",
       "      <th>401</th>\n",
       "      <td>401</td>\n",
       "      <td>Notebook00020.jpg</td>\n",
       "      <td>None</td>\n",
       "    </tr>\n",
       "    <tr>\n",
       "      <th>402</th>\n",
       "      <td>402</td>\n",
       "      <td>Notebook00025.jpg</td>\n",
       "      <td>None</td>\n",
       "    </tr>\n",
       "    <tr>\n",
       "      <th>403</th>\n",
       "      <td>403</td>\n",
       "      <td>Notebook00005.jpg</td>\n",
       "      <td>None</td>\n",
       "    </tr>\n",
       "    <tr>\n",
       "      <th>404</th>\n",
       "      <td>404</td>\n",
       "      <td>Notebook00002.jpg</td>\n",
       "      <td>None</td>\n",
       "    </tr>\n",
       "    <tr>\n",
       "      <th>405</th>\n",
       "      <td>405</td>\n",
       "      <td>Notebook00032.jpg</td>\n",
       "      <td>None</td>\n",
       "    </tr>\n",
       "  </tbody>\n",
       "</table>\n",
       "<p>406 rows × 3 columns</p>\n",
       "</div>"
      ],
      "text/plain": [
       "      id           filename label\n",
       "0      0      Fork00005.jpg  None\n",
       "1      1      Fork00002.jpg  None\n",
       "2      2      Fork00032.jpg  None\n",
       "3      3     Radio00039.jpg  None\n",
       "4      4     Radio00020.jpg  None\n",
       "..   ...                ...   ...\n",
       "401  401  Notebook00020.jpg  None\n",
       "402  402  Notebook00025.jpg  None\n",
       "403  403  Notebook00005.jpg  None\n",
       "404  404  Notebook00002.jpg  None\n",
       "405  405  Notebook00032.jpg  None\n",
       "\n",
       "[406 rows x 3 columns]"
      ]
     },
     "execution_count": 65,
     "metadata": {},
     "output_type": "execute_result"
    }
   ],
   "source": [
    "office_test_dataset.gt"
   ]
  },
  {
   "cell_type": "code",
   "execution_count": 66,
   "id": "b2257b82",
   "metadata": {},
   "outputs": [],
   "source": [
    "def test_loop(dataloader, model):\n",
    "    model.eval()\n",
    "    with torch.no_grad():\n",
    "        for images, ids in dataloader:\n",
    "            images = images.to(device)\n",
    "            pred_labels = model(images)\n",
    "            pred_labels = pred_labels.argmax(1)\n",
    "            \n",
    "            for j, i in enumerate(ids):\n",
    "                dataloader.dataset.gt.loc[i.item(),'label'] = label2class_dict[pred_labels[j].item()]"
   ]
  },
  {
   "cell_type": "code",
   "execution_count": 67,
   "id": "ae244c5b",
   "metadata": {},
   "outputs": [],
   "source": [
    "test_loop(office_test_dataloader, p2_model)"
   ]
  },
  {
   "cell_type": "code",
   "execution_count": 68,
   "id": "f9fdd83c",
   "metadata": {},
   "outputs": [
    {
     "data": {
      "text/html": [
       "<div>\n",
       "<style scoped>\n",
       "    .dataframe tbody tr th:only-of-type {\n",
       "        vertical-align: middle;\n",
       "    }\n",
       "\n",
       "    .dataframe tbody tr th {\n",
       "        vertical-align: top;\n",
       "    }\n",
       "\n",
       "    .dataframe thead th {\n",
       "        text-align: right;\n",
       "    }\n",
       "</style>\n",
       "<table border=\"1\" class=\"dataframe\">\n",
       "  <thead>\n",
       "    <tr style=\"text-align: right;\">\n",
       "      <th></th>\n",
       "      <th>id</th>\n",
       "      <th>filename</th>\n",
       "      <th>label</th>\n",
       "    </tr>\n",
       "  </thead>\n",
       "  <tbody>\n",
       "    <tr>\n",
       "      <th>0</th>\n",
       "      <td>0</td>\n",
       "      <td>Fork00005.jpg</td>\n",
       "      <td>Pen</td>\n",
       "    </tr>\n",
       "    <tr>\n",
       "      <th>1</th>\n",
       "      <td>1</td>\n",
       "      <td>Fork00002.jpg</td>\n",
       "      <td>Desk_Lamp</td>\n",
       "    </tr>\n",
       "    <tr>\n",
       "      <th>2</th>\n",
       "      <td>2</td>\n",
       "      <td>Fork00032.jpg</td>\n",
       "      <td>Pencil</td>\n",
       "    </tr>\n",
       "    <tr>\n",
       "      <th>3</th>\n",
       "      <td>3</td>\n",
       "      <td>Radio00039.jpg</td>\n",
       "      <td>Radio</td>\n",
       "    </tr>\n",
       "    <tr>\n",
       "      <th>4</th>\n",
       "      <td>4</td>\n",
       "      <td>Radio00020.jpg</td>\n",
       "      <td>Radio</td>\n",
       "    </tr>\n",
       "    <tr>\n",
       "      <th>...</th>\n",
       "      <td>...</td>\n",
       "      <td>...</td>\n",
       "      <td>...</td>\n",
       "    </tr>\n",
       "    <tr>\n",
       "      <th>401</th>\n",
       "      <td>401</td>\n",
       "      <td>Notebook00020.jpg</td>\n",
       "      <td>Notebook</td>\n",
       "    </tr>\n",
       "    <tr>\n",
       "      <th>402</th>\n",
       "      <td>402</td>\n",
       "      <td>Notebook00025.jpg</td>\n",
       "      <td>Notebook</td>\n",
       "    </tr>\n",
       "    <tr>\n",
       "      <th>403</th>\n",
       "      <td>403</td>\n",
       "      <td>Notebook00005.jpg</td>\n",
       "      <td>Notebook</td>\n",
       "    </tr>\n",
       "    <tr>\n",
       "      <th>404</th>\n",
       "      <td>404</td>\n",
       "      <td>Notebook00002.jpg</td>\n",
       "      <td>Notebook</td>\n",
       "    </tr>\n",
       "    <tr>\n",
       "      <th>405</th>\n",
       "      <td>405</td>\n",
       "      <td>Notebook00032.jpg</td>\n",
       "      <td>Eraser</td>\n",
       "    </tr>\n",
       "  </tbody>\n",
       "</table>\n",
       "<p>406 rows × 3 columns</p>\n",
       "</div>"
      ],
      "text/plain": [
       "      id           filename      label\n",
       "0      0      Fork00005.jpg        Pen\n",
       "1      1      Fork00002.jpg  Desk_Lamp\n",
       "2      2      Fork00032.jpg     Pencil\n",
       "3      3     Radio00039.jpg      Radio\n",
       "4      4     Radio00020.jpg      Radio\n",
       "..   ...                ...        ...\n",
       "401  401  Notebook00020.jpg   Notebook\n",
       "402  402  Notebook00025.jpg   Notebook\n",
       "403  403  Notebook00005.jpg   Notebook\n",
       "404  404  Notebook00002.jpg   Notebook\n",
       "405  405  Notebook00032.jpg     Eraser\n",
       "\n",
       "[406 rows x 3 columns]"
      ]
     },
     "execution_count": 68,
     "metadata": {},
     "output_type": "execute_result"
    }
   ],
   "source": [
    "office_test_dataloader.dataset.gt"
   ]
  },
  {
   "cell_type": "code",
   "execution_count": 69,
   "id": "35adae23",
   "metadata": {},
   "outputs": [],
   "source": [
    "def check_acc(gt):\n",
    "    acc = 0\n",
    "    for i in range(len(gt)):\n",
    "        if gt.loc[i, 'filename'][:-9] == gt.loc[i, 'label']:\n",
    "            acc += 1\n",
    "    print(acc/len(gt))"
   ]
  },
  {
   "cell_type": "code",
   "execution_count": 70,
   "id": "95eb6ad9",
   "metadata": {},
   "outputs": [
    {
     "name": "stdout",
     "output_type": "stream",
     "text": [
      "0.5246305418719212\n"
     ]
    }
   ],
   "source": [
    "check_acc(office_test_dataloader.dataset.gt)"
   ]
  },
  {
   "cell_type": "code",
   "execution_count": null,
   "id": "e2f6bcb3",
   "metadata": {},
   "outputs": [],
   "source": []
  },
  {
   "cell_type": "code",
   "execution_count": null,
   "id": "6f4ab2b2",
   "metadata": {},
   "outputs": [],
   "source": []
  },
  {
   "cell_type": "code",
   "execution_count": 16,
   "id": "3e8e5119",
   "metadata": {},
   "outputs": [],
   "source": [
    "output_csv_path = 'D:/NTU/DLCV/hw4/hw4_data/office/test_pred.csv'\n",
    "office_test_dataloader.dataset.gt.to_csv(output_csv_path, index=False)"
   ]
  },
  {
   "cell_type": "code",
   "execution_count": null,
   "id": "ae40170f",
   "metadata": {},
   "outputs": [],
   "source": []
  },
  {
   "cell_type": "code",
   "execution_count": 4,
   "id": "8a7dfbb8",
   "metadata": {},
   "outputs": [],
   "source": [
    "import pandas as pd"
   ]
  },
  {
   "cell_type": "code",
   "execution_count": 5,
   "id": "1039e680",
   "metadata": {},
   "outputs": [],
   "source": [
    "gt = pd.read_csv('hw4_data/office/val.csv')\n",
    "pred = pd.read_csv('hw4-Willy-Wen/p2_output.csv')"
   ]
  },
  {
   "cell_type": "code",
   "execution_count": 11,
   "id": "0c7e71a8",
   "metadata": {},
   "outputs": [
    {
     "data": {
      "text/plain": [
       "0.5246305418719212"
      ]
     },
     "execution_count": 11,
     "metadata": {},
     "output_type": "execute_result"
    }
   ],
   "source": [
    "(gt['label']==pred['label']).sum()/len(gt)"
   ]
  },
  {
   "cell_type": "code",
   "execution_count": null,
   "id": "bc9c178e",
   "metadata": {},
   "outputs": [],
   "source": []
  },
  {
   "cell_type": "code",
   "execution_count": null,
   "id": "cc81928f",
   "metadata": {},
   "outputs": [],
   "source": []
  },
  {
   "cell_type": "code",
   "execution_count": null,
   "id": "992bb33e",
   "metadata": {},
   "outputs": [],
   "source": []
  },
  {
   "cell_type": "code",
   "execution_count": null,
   "id": "7d26ff84",
   "metadata": {},
   "outputs": [],
   "source": []
  },
  {
   "cell_type": "code",
   "execution_count": null,
   "id": "1d5ee64f",
   "metadata": {},
   "outputs": [],
   "source": []
  }
 ],
 "metadata": {
  "kernelspec": {
   "display_name": "Python 3 (ipykernel)",
   "language": "python",
   "name": "python3"
  },
  "language_info": {
   "codemirror_mode": {
    "name": "ipython",
    "version": 3
   },
   "file_extension": ".py",
   "mimetype": "text/x-python",
   "name": "python",
   "nbconvert_exporter": "python",
   "pygments_lexer": "ipython3",
   "version": "3.9.7"
  }
 },
 "nbformat": 4,
 "nbformat_minor": 5
}
