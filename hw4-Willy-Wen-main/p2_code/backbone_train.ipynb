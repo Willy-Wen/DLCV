{
 "cells": [
  {
   "cell_type": "code",
   "execution_count": null,
   "id": "55d49798",
   "metadata": {},
   "outputs": [],
   "source": [
    "import os\n",
    "import numpy as np\n",
    "from PIL import Image\n",
    "import matplotlib.pyplot as plt\n",
    "import tqdm\n",
    "\n",
    "import torch\n",
    "from torchvision import models, transforms\n",
    "from torch.utils.data import Dataset, DataLoader\n",
    "from byol_pytorch import BYOL"
   ]
  },
  {
   "cell_type": "code",
   "execution_count": null,
   "id": "b620ad32",
   "metadata": {},
   "outputs": [],
   "source": [
    "device = torch.device('cuda:0' if torch.cuda.is_available() else 'cpu')\n",
    "print(device)"
   ]
  },
  {
   "cell_type": "code",
   "execution_count": 3,
   "id": "2224f6da",
   "metadata": {},
   "outputs": [],
   "source": [
    "class Mini_Dataset(Dataset):\n",
    "    def __init__(self, img_dir, transform=None):\n",
    "        self.img_dir = img_dir\n",
    "        self.img_list = [file for file in os.listdir(img_dir) if file.endswith('.jpg')]\n",
    "        self.transform = transform\n",
    "        self.img_list.sort()\n",
    "\n",
    "    def __len__(self):\n",
    "        return len(self.img_list)\n",
    "\n",
    "    def __getitem__(self, idx):\n",
    "        img_name = self.img_list[idx]\n",
    "        img_path = f'{self.img_dir}/{img_name}'\n",
    "        image = Image.open(img_path)\n",
    "        if self.transform:\n",
    "            image = self.transform(image)\n",
    "        return image"
   ]
  },
  {
   "cell_type": "code",
   "execution_count": 4,
   "id": "5b39ebca",
   "metadata": {},
   "outputs": [],
   "source": [
    "mini_train = 'D:/NTU/DLCV/hw4/hw4_data/mini/train'\n",
    "batch_size = 32\n",
    "\n",
    "transform = transforms.Compose([transforms.Resize(128),\n",
    "                                transforms.CenterCrop(128),\n",
    "                                transforms.ToTensor(),\n",
    "                                transforms.Normalize(mean=[0.485, 0.456, 0.406],\n",
    "                                                     std=[0.229, 0.224, 0.225])\n",
    "                               ])"
   ]
  },
  {
   "cell_type": "code",
   "execution_count": 5,
   "id": "c93185d5",
   "metadata": {},
   "outputs": [],
   "source": [
    "mini_dataset = Mini_Dataset(mini_train, transform)\n",
    "mini_dataloader = DataLoader(mini_dataset, batch_size=batch_size, shuffle=True)"
   ]
  },
  {
   "cell_type": "code",
   "execution_count": 6,
   "id": "d0945e50",
   "metadata": {},
   "outputs": [
    {
     "name": "stdout",
     "output_type": "stream",
     "text": [
      "torch.Size([32, 3, 128, 128])\n"
     ]
    }
   ],
   "source": [
    "images = next(iter(mini_dataloader))\n",
    "print(images.shape)"
   ]
  },
  {
   "cell_type": "code",
   "execution_count": 7,
   "id": "5e347702",
   "metadata": {},
   "outputs": [],
   "source": [
    "backbone = models.resnet50(weights=None)\n",
    "backbone.to(device)\n",
    "\n",
    "learner = BYOL(backbone, image_size=128, hidden_layer='avgpool', use_momentum=False)\n",
    "optimizer = torch.optim.Adam(learner.parameters(), lr=3e-4)\n",
    "\n",
    "epoch = 0\n",
    "loss_record = []\n",
    "\n",
    "checkpoint = torch.load('p2_ckpt/backbone.pt')\n",
    "backbone.load_state_dict(checkpoint['model_state_dict'])\n",
    "optimizer.load_state_dict(checkpoint['optimizer_state_dict'])\n",
    "epoch = checkpoint['epoch']\n",
    "loss_record = checkpoint['loss']"
   ]
  },
  {
   "cell_type": "code",
   "execution_count": 9,
   "id": "45724b76",
   "metadata": {
    "scrolled": true
   },
   "outputs": [
    {
     "name": "stderr",
     "output_type": "stream",
     "text": [
      "epoch 8: 100%|██████████████████████████████████████████████████████████| 1200/1200 [14:41<00:00,  1.36it/s, loss=1.39]\n"
     ]
    },
    {
     "name": "stdout",
     "output_type": "stream",
     "text": [
      "epoch 8: avg_loss = 0.9398312978229175\n",
      "saved p2_ckpt/backbone.pt\n"
     ]
    },
    {
     "name": "stderr",
     "output_type": "stream",
     "text": [
      "epoch 9: 100%|█████████████████████████████████████████████████████████| 1200/1200 [13:27<00:00,  1.49it/s, loss=0.812]\n"
     ]
    },
    {
     "name": "stdout",
     "output_type": "stream",
     "text": [
      "epoch 9: avg_loss = 0.8438595825744172\n",
      "saved p2_ckpt/backbone.pt\n"
     ]
    },
    {
     "name": "stderr",
     "output_type": "stream",
     "text": [
      "epoch 10: 100%|████████████████████████████████████████████████████████| 1200/1200 [13:39<00:00,  1.46it/s, loss=0.666]\n"
     ]
    },
    {
     "name": "stdout",
     "output_type": "stream",
     "text": [
      "epoch 10: avg_loss = 0.842045261648794\n",
      "saved p2_ckpt/backbone.pt\n",
      "saved p2_ckpt/backbone_10.pt\n"
     ]
    },
    {
     "data": {
      "image/png": "[encoded data removed]",
      "text/plain": [
       "<Figure size 1000x300 with 1 Axes>"
      ]
     },
     "metadata": {},
     "output_type": "display_data"
    },
    {
     "name": "stderr",
     "output_type": "stream",
     "text": [
      "epoch 11: 100%|████████████████████████████████████████████████████████| 1200/1200 [13:10<00:00,  1.52it/s, loss=0.487]\n"
     ]
    },
    {
     "name": "stdout",
     "output_type": "stream",
     "text": [
      "epoch 11: avg_loss = 0.8113537887235482\n",
      "saved p2_ckpt/backbone.pt\n"
     ]
    },
    {
     "name": "stderr",
     "output_type": "stream",
     "text": [
      "epoch 12: 100%|████████████████████████████████████████████████████████| 1200/1200 [12:51<00:00,  1.55it/s, loss=0.662]\n"
     ]
    },
    {
     "name": "stdout",
     "output_type": "stream",
     "text": [
      "epoch 12: avg_loss = 0.7809750979983558\n",
      "saved p2_ckpt/backbone.pt\n"
     ]
    },
    {
     "name": "stderr",
     "output_type": "stream",
     "text": [
      "epoch 13: 100%|█████████████████████████████████████████████████████████| 1200/1200 [13:15<00:00,  1.51it/s, loss=1.54]\n"
     ]
    },
    {
     "name": "stdout",
     "output_type": "stream",
     "text": [
      "epoch 13: avg_loss = 0.7566372334398329\n",
      "saved p2_ckpt/backbone.pt\n"
     ]
    },
    {
     "name": "stderr",
     "output_type": "stream",
     "text": [
      "epoch 14: 100%|█████████████████████████████████████████████████████████| 1200/1200 [13:35<00:00,  1.47it/s, loss=1.01]\n"
     ]
    },
    {
     "name": "stdout",
     "output_type": "stream",
     "text": [
      "epoch 14: avg_loss = 0.7432789200140785\n",
      "saved p2_ckpt/backbone.pt\n"
     ]
    },
    {
     "name": "stderr",
     "output_type": "stream",
     "text": [
      "epoch 15: 100%|████████████████████████████████████████████████████████| 1200/1200 [13:01<00:00,  1.53it/s, loss=0.233]\n"
     ]
    },
    {
     "name": "stdout",
     "output_type": "stream",
     "text": [
      "epoch 15: avg_loss = 0.7407048223540187\n",
      "saved p2_ckpt/backbone.pt\n"
     ]
    },
    {
     "name": "stderr",
     "output_type": "stream",
     "text": [
      "epoch 16: 100%|████████████████████████████████████████████████████████| 1200/1200 [13:26<00:00,  1.49it/s, loss=0.345]\n"
     ]
    },
    {
     "name": "stdout",
     "output_type": "stream",
     "text": [
      "epoch 16: avg_loss = 0.7086890157870949\n",
      "saved p2_ckpt/backbone.pt\n"
     ]
    },
    {
     "name": "stderr",
     "output_type": "stream",
     "text": [
      "epoch 17: 100%|█████████████████████████████████████████████████████████| 1200/1200 [13:34<00:00,  1.47it/s, loss=1.53]\n"
     ]
    },
    {
     "name": "stdout",
     "output_type": "stream",
     "text": [
      "epoch 17: avg_loss = 0.6897329386106382\n",
      "saved p2_ckpt/backbone.pt\n"
     ]
    },
    {
     "name": "stderr",
     "output_type": "stream",
     "text": [
      "epoch 18: 100%|████████████████████████████████████████████████████████| 1200/1200 [22:08<00:00,  1.11s/it, loss=0.729]\n"
     ]
    },
    {
     "name": "stdout",
     "output_type": "stream",
     "text": [
      "epoch 18: avg_loss = 0.7132003634981811\n",
      "saved p2_ckpt/backbone.pt\n"
     ]
    },
    {
     "name": "stderr",
     "output_type": "stream",
     "text": [
      "epoch 19: 100%|█████████████████████████████████████████████████████████| 1200/1200 [16:09<00:00,  1.24it/s, loss=0.24]\n"
     ]
    },
    {
     "name": "stdout",
     "output_type": "stream",
     "text": [
      "epoch 19: avg_loss = 0.6863276723089318\n",
      "saved p2_ckpt/backbone.pt\n"
     ]
    },
    {
     "name": "stderr",
     "output_type": "stream",
     "text": [
      "epoch 20: 100%|████████████████████████████████████████████████████████| 1200/1200 [15:21<00:00,  1.30it/s, loss=0.342]\n"
     ]
    },
    {
     "name": "stdout",
     "output_type": "stream",
     "text": [
      "epoch 20: avg_loss = 0.6592486909745882\n",
      "saved p2_ckpt/backbone.pt\n",
      "saved p2_ckpt/backbone_20.pt\n"
     ]
    },
    {
     "data": {
      "image/png": "[encoded data removed]",
      "text/plain": [
       "<Figure size 1000x300 with 1 Axes>"
      ]
     },
     "metadata": {},
     "output_type": "display_data"
    },
    {
     "name": "stderr",
     "output_type": "stream",
     "text": [
      "epoch 21: 100%|█████████████████████████████████████████████████████████| 1200/1200 [14:41<00:00,  1.36it/s, loss=0.25]\n"
     ]
    },
    {
     "name": "stdout",
     "output_type": "stream",
     "text": [
      "epoch 21: avg_loss = 0.6303046676578621\n",
      "saved p2_ckpt/backbone.pt\n"
     ]
    },
    {
     "name": "stderr",
     "output_type": "stream",
     "text": [
      "epoch 22: 100%|████████████████████████████████████████████████████████| 1200/1200 [13:41<00:00,  1.46it/s, loss=0.467]\n"
     ]
    },
    {
     "name": "stdout",
     "output_type": "stream",
     "text": [
      "epoch 22: avg_loss = 0.6002621926926076\n",
      "saved p2_ckpt/backbone.pt\n"
     ]
    },
    {
     "name": "stderr",
     "output_type": "stream",
     "text": [
      "epoch 23: 100%|█████████████████████████████████████████████████████████| 1200/1200 [13:14<00:00,  1.51it/s, loss=1.79]\n"
     ]
    },
    {
     "name": "stdout",
     "output_type": "stream",
     "text": [
      "epoch 23: avg_loss = 0.5988466653662423\n",
      "saved p2_ckpt/backbone.pt\n"
     ]
    },
    {
     "name": "stderr",
     "output_type": "stream",
     "text": [
      "epoch 24: 100%|████████████████████████████████████████████████████████| 1200/1200 [13:39<00:00,  1.46it/s, loss=0.533]\n"
     ]
    },
    {
     "name": "stdout",
     "output_type": "stream",
     "text": [
      "epoch 24: avg_loss = 0.5834250671726962\n",
      "saved p2_ckpt/backbone.pt\n"
     ]
    },
    {
     "name": "stderr",
     "output_type": "stream",
     "text": [
      "epoch 25: 100%|████████████████████████████████████████████████████████| 1200/1200 [13:38<00:00,  1.47it/s, loss=0.292]\n"
     ]
    },
    {
     "name": "stdout",
     "output_type": "stream",
     "text": [
      "epoch 25: avg_loss = 0.6218234908704956\n",
      "saved p2_ckpt/backbone.pt\n"
     ]
    },
    {
     "name": "stderr",
     "output_type": "stream",
     "text": [
      "epoch 26: 100%|███████████████████████████████████████████████████████| 1200/1200 [13:43<00:00,  1.46it/s, loss=0.0456]\n"
     ]
    },
    {
     "name": "stdout",
     "output_type": "stream",
     "text": [
      "epoch 26: avg_loss = 0.5814040186411391\n",
      "saved p2_ckpt/backbone.pt\n"
     ]
    },
    {
     "name": "stderr",
     "output_type": "stream",
     "text": [
      "epoch 27: 100%|████████████████████████████████████████████████████████| 1200/1200 [13:19<00:00,  1.50it/s, loss=0.879]\n"
     ]
    },
    {
     "name": "stdout",
     "output_type": "stream",
     "text": [
      "epoch 27: avg_loss = 0.5829913335883369\n",
      "saved p2_ckpt/backbone.pt\n"
     ]
    },
    {
     "name": "stderr",
     "output_type": "stream",
     "text": [
      "epoch 28: 100%|████████████████████████████████████████████████████████| 1200/1200 [13:24<00:00,  1.49it/s, loss=0.512]\n"
     ]
    },
    {
     "name": "stdout",
     "output_type": "stream",
     "text": [
      "epoch 28: avg_loss = 0.5724516784523924\n",
      "saved p2_ckpt/backbone.pt\n"
     ]
    },
    {
     "name": "stderr",
     "output_type": "stream",
     "text": [
      "epoch 29: 100%|████████████████████████████████████████████████████████| 1200/1200 [22:10<00:00,  1.11s/it, loss=0.326]\n"
     ]
    },
    {
     "name": "stdout",
     "output_type": "stream",
     "text": [
      "epoch 29: avg_loss = 0.5616633965571721\n",
      "saved p2_ckpt/backbone.pt\n"
     ]
    },
    {
     "name": "stderr",
     "output_type": "stream",
     "text": [
      "epoch 30: 100%|█████████████████████████████████████████████████████████| 1200/1200 [16:26<00:00,  1.22it/s, loss=0.11]\n"
     ]
    },
    {
     "name": "stdout",
     "output_type": "stream",
     "text": [
      "epoch 30: avg_loss = 0.5685314894933253\n",
      "saved p2_ckpt/backbone.pt\n",
      "saved p2_ckpt/backbone_30.pt\n"
     ]
    },
    {
     "data": {
      "image/png": "[encoded data removed]",
      "text/plain": [
       "<Figure size 1000x300 with 1 Axes>"
      ]
     },
     "metadata": {},
     "output_type": "display_data"
    },
    {
     "name": "stderr",
     "output_type": "stream",
     "text": [
      "epoch 31: 100%|████████████████████████████████████████████████████████| 1200/1200 [13:22<00:00,  1.50it/s, loss=0.319]\n"
     ]
    },
    {
     "name": "stdout",
     "output_type": "stream",
     "text": [
      "epoch 31: avg_loss = 0.5290477613452822\n",
      "saved p2_ckpt/backbone.pt\n"
     ]
    },
    {
     "name": "stderr",
     "output_type": "stream",
     "text": [
      "epoch 32: 100%|████████████████████████████████████████████████████████| 1200/1200 [15:31<00:00,  1.29it/s, loss=0.438]\n"
     ]
    },
    {
     "name": "stdout",
     "output_type": "stream",
     "text": [
      "epoch 32: avg_loss = 0.5407583994542559\n",
      "saved p2_ckpt/backbone.pt\n"
     ]
    },
    {
     "name": "stderr",
     "output_type": "stream",
     "text": [
      "epoch 33: 100%|█████████████████████████████████████████████████████████| 1200/1200 [16:02<00:00,  1.25it/s, loss=1.53]\n"
     ]
    },
    {
     "name": "stdout",
     "output_type": "stream",
     "text": [
      "epoch 33: avg_loss = 0.532501120781526\n",
      "saved p2_ckpt/backbone.pt\n"
     ]
    },
    {
     "name": "stderr",
     "output_type": "stream",
     "text": [
      "epoch 34: 100%|████████████████████████████████████████████████████████| 1200/1200 [16:05<00:00,  1.24it/s, loss=0.312]\n"
     ]
    },
    {
     "name": "stdout",
     "output_type": "stream",
     "text": [
      "epoch 34: avg_loss = 0.5258754906244576\n",
      "saved p2_ckpt/backbone.pt\n"
     ]
    },
    {
     "name": "stderr",
     "output_type": "stream",
     "text": [
      "epoch 35: 100%|████████████████████████████████████████████████████████| 1200/1200 [16:16<00:00,  1.23it/s, loss=0.148]\n"
     ]
    },
    {
     "name": "stdout",
     "output_type": "stream",
     "text": [
      "epoch 35: avg_loss = 0.5219837578882773\n",
      "saved p2_ckpt/backbone.pt\n"
     ]
    },
    {
     "name": "stderr",
     "output_type": "stream",
     "text": [
      "epoch 36: 100%|████████████████████████████████████████████████████████| 1200/1200 [18:04<00:00,  1.11it/s, loss=0.478]\n"
     ]
    },
    {
     "name": "stdout",
     "output_type": "stream",
     "text": [
      "epoch 36: avg_loss = 0.5323490054750194\n",
      "saved p2_ckpt/backbone.pt\n"
     ]
    },
    {
     "name": "stderr",
     "output_type": "stream",
     "text": [
      "epoch 37: 100%|████████████████████████████████████████████████████████| 1200/1200 [15:38<00:00,  1.28it/s, loss=0.273]\n"
     ]
    },
    {
     "name": "stdout",
     "output_type": "stream",
     "text": [
      "epoch 37: avg_loss = 0.5318339261164268\n",
      "saved p2_ckpt/backbone.pt\n"
     ]
    },
    {
     "name": "stderr",
     "output_type": "stream",
     "text": [
      "epoch 38: 100%|█████████████████████████████████████████████████████████| 1200/1200 [13:42<00:00,  1.46it/s, loss=1.33]\n"
     ]
    },
    {
     "name": "stdout",
     "output_type": "stream",
     "text": [
      "epoch 38: avg_loss = 0.5144411269699534\n",
      "saved p2_ckpt/backbone.pt\n"
     ]
    },
    {
     "name": "stderr",
     "output_type": "stream",
     "text": [
      "epoch 39: 100%|█████████████████████████████████████████████████████████| 1200/1200 [13:27<00:00,  1.49it/s, loss=0.74]\n"
     ]
    },
    {
     "name": "stdout",
     "output_type": "stream",
     "text": [
      "epoch 39: avg_loss = 0.5137858682963997\n",
      "saved p2_ckpt/backbone.pt\n"
     ]
    },
    {
     "name": "stderr",
     "output_type": "stream",
     "text": [
      "epoch 40: 100%|████████████████████████████████████████████████████████| 1200/1200 [14:03<00:00,  1.42it/s, loss=0.717]\n"
     ]
    },
    {
     "name": "stdout",
     "output_type": "stream",
     "text": [
      "epoch 40: avg_loss = 0.5055340922841182\n",
      "saved p2_ckpt/backbone.pt\n",
      "saved p2_ckpt/backbone_40.pt\n"
     ]
    },
    {
     "data": {
      "image/png": "[encoded data removed]",
      "text/plain": [
       "<Figure size 1000x300 with 1 Axes>"
      ]
     },
     "metadata": {},
     "output_type": "display_data"
    },
    {
     "name": "stderr",
     "output_type": "stream",
     "text": [
      "epoch 41: 100%|████████████████████████████████████████████████████████| 1200/1200 [13:22<00:00,  1.49it/s, loss=0.389]\n"
     ]
    },
    {
     "name": "stdout",
     "output_type": "stream",
     "text": [
      "epoch 41: avg_loss = 0.5099262982296447\n",
      "saved p2_ckpt/backbone.pt\n"
     ]
    },
    {
     "name": "stderr",
     "output_type": "stream",
     "text": [
      "epoch 42: 100%|█████████████████████████████████████████████████████████| 1200/1200 [13:17<00:00,  1.50it/s, loss=0.38]\n"
     ]
    },
    {
     "name": "stdout",
     "output_type": "stream",
     "text": [
      "epoch 42: avg_loss = 0.5116711949867507\n",
      "saved p2_ckpt/backbone.pt\n"
     ]
    },
    {
     "name": "stderr",
     "output_type": "stream",
     "text": [
      "epoch 43: 100%|█████████████████████████████████████████████████████████| 1200/1200 [13:03<00:00,  1.53it/s, loss=1.01]\n"
     ]
    },
    {
     "name": "stdout",
     "output_type": "stream",
     "text": [
      "epoch 43: avg_loss = 0.5022851184538255\n",
      "saved p2_ckpt/backbone.pt\n"
     ]
    },
    {
     "name": "stderr",
     "output_type": "stream",
     "text": [
      "epoch 44: 100%|████████████████████████████████████████████████████████| 1200/1200 [13:27<00:00,  1.49it/s, loss=0.542]\n"
     ]
    },
    {
     "name": "stdout",
     "output_type": "stream",
     "text": [
      "epoch 44: avg_loss = 0.5055609438133737\n",
      "saved p2_ckpt/backbone.pt\n"
     ]
    },
    {
     "name": "stderr",
     "output_type": "stream",
     "text": [
      "epoch 45: 100%|████████████████████████████████████████████████████████| 1200/1200 [13:54<00:00,  1.44it/s, loss=0.348]\n"
     ]
    },
    {
     "name": "stdout",
     "output_type": "stream",
     "text": [
      "epoch 45: avg_loss = 0.49890261435570815\n",
      "saved p2_ckpt/backbone.pt\n"
     ]
    },
    {
     "name": "stderr",
     "output_type": "stream",
     "text": [
      "epoch 46: 100%|█████████████████████████████████████████████████████████| 1200/1200 [13:23<00:00,  1.49it/s, loss=1.11]\n"
     ]
    },
    {
     "name": "stdout",
     "output_type": "stream",
     "text": [
      "epoch 46: avg_loss = 0.49751654950901864\n",
      "saved p2_ckpt/backbone.pt\n"
     ]
    },
    {
     "name": "stderr",
     "output_type": "stream",
     "text": [
      "epoch 47: 100%|████████████████████████████████████████████████████████| 1200/1200 [13:30<00:00,  1.48it/s, loss=0.655]\n"
     ]
    },
    {
     "name": "stdout",
     "output_type": "stream",
     "text": [
      "epoch 47: avg_loss = 0.517534581689785\n",
      "saved p2_ckpt/backbone.pt\n"
     ]
    },
    {
     "name": "stderr",
     "output_type": "stream",
     "text": [
      "epoch 48: 100%|████████████████████████████████████████████████████████| 1200/1200 [13:35<00:00,  1.47it/s, loss=0.275]\n"
     ]
    },
    {
     "name": "stdout",
     "output_type": "stream",
     "text": [
      "epoch 48: avg_loss = 0.48925264505669475\n",
      "saved p2_ckpt/backbone.pt\n"
     ]
    },
    {
     "name": "stderr",
     "output_type": "stream",
     "text": [
      "epoch 49: 100%|████████████████████████████████████████████████████████| 1200/1200 [13:40<00:00,  1.46it/s, loss=0.245]\n"
     ]
    },
    {
     "name": "stdout",
     "output_type": "stream",
     "text": [
      "epoch 49: avg_loss = 0.5093834588055809\n",
      "saved p2_ckpt/backbone.pt\n"
     ]
    },
    {
     "name": "stderr",
     "output_type": "stream",
     "text": [
      "epoch 50: 100%|████████████████████████████████████████████████████████| 1200/1200 [13:54<00:00,  1.44it/s, loss=0.219]\n"
     ]
    },
    {
     "name": "stdout",
     "output_type": "stream",
     "text": [
      "epoch 50: avg_loss = 0.536969828636696\n",
      "saved p2_ckpt/backbone.pt\n",
      "saved p2_ckpt/backbone_50.pt\n"
     ]
    },
    {
     "data": {
      "image/png": "[encoded data removed]",
      "text/plain": [
       "<Figure size 1000x300 with 1 Axes>"
      ]
     },
     "metadata": {},
     "output_type": "display_data"
    },
    {
     "name": "stderr",
     "output_type": "stream",
     "text": [
      "epoch 51: 100%|█████████████████████████████████████████████████████████| 1200/1200 [14:05<00:00,  1.42it/s, loss=1.32]\n"
     ]
    },
    {
     "name": "stdout",
     "output_type": "stream",
     "text": [
      "epoch 51: avg_loss = 0.5200092705835899\n",
      "saved p2_ckpt/backbone.pt\n"
     ]
    },
    {
     "name": "stderr",
     "output_type": "stream",
     "text": [
      "epoch 52: 100%|████████████████████████████████████████████████████████| 1200/1200 [13:28<00:00,  1.48it/s, loss=0.569]\n"
     ]
    },
    {
     "name": "stdout",
     "output_type": "stream",
     "text": [
      "epoch 52: avg_loss = 0.5042003495463481\n",
      "saved p2_ckpt/backbone.pt\n"
     ]
    },
    {
     "name": "stderr",
     "output_type": "stream",
     "text": [
      "epoch 53: 100%|████████████████████████████████████████████████████████| 1200/1200 [15:21<00:00,  1.30it/s, loss=0.399]\n"
     ]
    },
    {
     "name": "stdout",
     "output_type": "stream",
     "text": [
      "epoch 53: avg_loss = 0.48324417203354336\n",
      "saved p2_ckpt/backbone.pt\n"
     ]
    },
    {
     "name": "stderr",
     "output_type": "stream",
     "text": [
      "epoch 54: 100%|████████████████████████████████████████████████████████| 1200/1200 [14:15<00:00,  1.40it/s, loss=0.475]\n"
     ]
    },
    {
     "name": "stdout",
     "output_type": "stream",
     "text": [
      "epoch 54: avg_loss = 0.5010028256755322\n",
      "saved p2_ckpt/backbone.pt\n"
     ]
    },
    {
     "name": "stderr",
     "output_type": "stream",
     "text": [
      "epoch 55: 100%|████████████████████████████████████████████████████████| 1200/1200 [13:28<00:00,  1.48it/s, loss=0.157]\n"
     ]
    },
    {
     "name": "stdout",
     "output_type": "stream",
     "text": [
      "epoch 55: avg_loss = 0.5044391397014261\n",
      "saved p2_ckpt/backbone.pt\n"
     ]
    },
    {
     "name": "stderr",
     "output_type": "stream",
     "text": [
      "epoch 56: 100%|████████████████████████████████████████████████████████| 1200/1200 [13:36<00:00,  1.47it/s, loss=0.367]\n"
     ]
    },
    {
     "name": "stdout",
     "output_type": "stream",
     "text": [
      "epoch 56: avg_loss = 0.4993850146078815\n",
      "saved p2_ckpt/backbone.pt\n"
     ]
    },
    {
     "name": "stderr",
     "output_type": "stream",
     "text": [
      "epoch 57: 100%|████████████████████████████████████████████████████████| 1200/1200 [13:38<00:00,  1.47it/s, loss=0.334]\n"
     ]
    },
    {
     "name": "stdout",
     "output_type": "stream",
     "text": [
      "epoch 57: avg_loss = 0.48381550357677044\n",
      "saved p2_ckpt/backbone.pt\n"
     ]
    },
    {
     "name": "stderr",
     "output_type": "stream",
     "text": [
      "epoch 58: 100%|████████████████████████████████████████████████████████| 1200/1200 [13:35<00:00,  1.47it/s, loss=0.418]\n"
     ]
    },
    {
     "name": "stdout",
     "output_type": "stream",
     "text": [
      "epoch 58: avg_loss = 0.49166568062578636\n",
      "saved p2_ckpt/backbone.pt\n"
     ]
    },
    {
     "name": "stderr",
     "output_type": "stream",
     "text": [
      "epoch 59: 100%|████████████████████████████████████████████████████████| 1200/1200 [13:46<00:00,  1.45it/s, loss=0.204]\n"
     ]
    },
    {
     "name": "stdout",
     "output_type": "stream",
     "text": [
      "epoch 59: avg_loss = 0.5087014086792866\n",
      "saved p2_ckpt/backbone.pt\n"
     ]
    },
    {
     "name": "stderr",
     "output_type": "stream",
     "text": [
      "epoch 60: 100%|████████████████████████████████████████████████████████| 1200/1200 [13:44<00:00,  1.46it/s, loss=0.545]\n"
     ]
    },
    {
     "name": "stdout",
     "output_type": "stream",
     "text": [
      "epoch 60: avg_loss = 0.49287590670088927\n",
      "saved p2_ckpt/backbone.pt\n",
      "saved p2_ckpt/backbone_60.pt\n"
     ]
    },
    {
     "data": {
      "image/png": "[encoded data removed]",
      "text/plain": [
       "<Figure size 1000x300 with 1 Axes>"
      ]
     },
     "metadata": {},
     "output_type": "display_data"
    },
    {
     "name": "stderr",
     "output_type": "stream",
     "text": [
      "epoch 61: 100%|████████████████████████████████████████████████████████| 1200/1200 [13:25<00:00,  1.49it/s, loss=0.167]\n"
     ]
    },
    {
     "name": "stdout",
     "output_type": "stream",
     "text": [
      "epoch 61: avg_loss = 0.49404129568487404\n",
      "saved p2_ckpt/backbone.pt\n"
     ]
    },
    {
     "name": "stderr",
     "output_type": "stream",
     "text": [
      "epoch 62: 100%|████████████████████████████████████████████████████████| 1200/1200 [13:32<00:00,  1.48it/s, loss=0.211]\n"
     ]
    },
    {
     "name": "stdout",
     "output_type": "stream",
     "text": [
      "epoch 62: avg_loss = 0.5058730737430354\n",
      "saved p2_ckpt/backbone.pt\n"
     ]
    },
    {
     "name": "stderr",
     "output_type": "stream",
     "text": [
      "epoch 63: 100%|████████████████████████████████████████████████████████| 1200/1200 [13:54<00:00,  1.44it/s, loss=0.433]\n"
     ]
    },
    {
     "name": "stdout",
     "output_type": "stream",
     "text": [
      "epoch 63: avg_loss = 0.4986217762622982\n",
      "saved p2_ckpt/backbone.pt\n"
     ]
    },
    {
     "name": "stderr",
     "output_type": "stream",
     "text": [
      "epoch 64: 100%|████████████████████████████████████████████████████████| 1200/1200 [13:09<00:00,  1.52it/s, loss=0.413]\n"
     ]
    },
    {
     "name": "stdout",
     "output_type": "stream",
     "text": [
      "epoch 64: avg_loss = 0.4505371622958531\n",
      "saved p2_ckpt/backbone.pt\n"
     ]
    },
    {
     "name": "stderr",
     "output_type": "stream",
     "text": [
      "epoch 65: 100%|████████████████████████████████████████████████████████| 1200/1200 [13:43<00:00,  1.46it/s, loss=0.244]\n"
     ]
    },
    {
     "name": "stdout",
     "output_type": "stream",
     "text": [
      "epoch 65: avg_loss = 0.494600323351721\n",
      "saved p2_ckpt/backbone.pt\n"
     ]
    },
    {
     "name": "stderr",
     "output_type": "stream",
     "text": [
      "epoch 66: 100%|████████████████████████████████████████████████████████| 1200/1200 [13:14<00:00,  1.51it/s, loss=0.983]\n"
     ]
    },
    {
     "name": "stdout",
     "output_type": "stream",
     "text": [
      "epoch 66: avg_loss = 0.49253738737354674\n",
      "saved p2_ckpt/backbone.pt\n"
     ]
    },
    {
     "name": "stderr",
     "output_type": "stream",
     "text": [
      "epoch 67: 100%|███████████████████████████████████████████████████████| 1200/1200 [13:16<00:00,  1.51it/s, loss=0.0656]\n"
     ]
    },
    {
     "name": "stdout",
     "output_type": "stream",
     "text": [
      "epoch 67: avg_loss = 0.4872913430289676\n",
      "saved p2_ckpt/backbone.pt\n"
     ]
    },
    {
     "name": "stderr",
     "output_type": "stream",
     "text": [
      "epoch 68: 100%|████████████████████████████████████████████████████████| 1200/1200 [13:34<00:00,  1.47it/s, loss=0.282]\n"
     ]
    },
    {
     "name": "stdout",
     "output_type": "stream",
     "text": [
      "epoch 68: avg_loss = 0.49547532937799893\n",
      "saved p2_ckpt/backbone.pt\n"
     ]
    },
    {
     "name": "stderr",
     "output_type": "stream",
     "text": [
      "epoch 69: 100%|█████████████████████████████████████████████████████████| 1200/1200 [13:43<00:00,  1.46it/s, loss=1.06]\n"
     ]
    },
    {
     "name": "stdout",
     "output_type": "stream",
     "text": [
      "epoch 69: avg_loss = 0.47522826691778997\n",
      "saved p2_ckpt/backbone.pt\n"
     ]
    },
    {
     "name": "stderr",
     "output_type": "stream",
     "text": [
      "epoch 70: 100%|████████████████████████████████████████████████████████| 1200/1200 [13:38<00:00,  1.47it/s, loss=0.181]\n"
     ]
    },
    {
     "name": "stdout",
     "output_type": "stream",
     "text": [
      "epoch 70: avg_loss = 0.48560506279269855\n",
      "saved p2_ckpt/backbone.pt\n",
      "saved p2_ckpt/backbone_70.pt\n"
     ]
    },
    {
     "data": {
      "image/png": "[encoded data removed]",
      "text/plain": [
       "<Figure size 1000x300 with 1 Axes>"
      ]
     },
     "metadata": {},
     "output_type": "display_data"
    },
    {
     "name": "stderr",
     "output_type": "stream",
     "text": [
      "epoch 71: 100%|█████████████████████████████████████████████████████████| 1200/1200 [16:07<00:00,  1.24it/s, loss=0.62]\n"
     ]
    },
    {
     "name": "stdout",
     "output_type": "stream",
     "text": [
      "epoch 71: avg_loss = 0.49428421242473025\n",
      "saved p2_ckpt/backbone.pt\n"
     ]
    },
    {
     "name": "stderr",
     "output_type": "stream",
     "text": [
      "epoch 72: 100%|████████████████████████████████████████████████████████| 1200/1200 [13:20<00:00,  1.50it/s, loss=0.123]\n"
     ]
    },
    {
     "name": "stdout",
     "output_type": "stream",
     "text": [
      "epoch 72: avg_loss = 0.49254623473311465\n",
      "saved p2_ckpt/backbone.pt\n"
     ]
    },
    {
     "name": "stderr",
     "output_type": "stream",
     "text": [
      "epoch 73: 100%|████████████████████████████████████████████████████████| 1200/1200 [13:34<00:00,  1.47it/s, loss=0.295]\n"
     ]
    },
    {
     "name": "stdout",
     "output_type": "stream",
     "text": [
      "epoch 73: avg_loss = 0.4905300746050974\n",
      "saved p2_ckpt/backbone.pt\n"
     ]
    },
    {
     "name": "stderr",
     "output_type": "stream",
     "text": [
      "epoch 74: 100%|█████████████████████████████████████████████████████████| 1200/1200 [13:33<00:00,  1.47it/s, loss=1.09]\n"
     ]
    },
    {
     "name": "stdout",
     "output_type": "stream",
     "text": [
      "epoch 74: avg_loss = 0.49467205494021377\n",
      "saved p2_ckpt/backbone.pt\n"
     ]
    },
    {
     "name": "stderr",
     "output_type": "stream",
     "text": [
      "epoch 75: 100%|████████████████████████████████████████████████████████| 1200/1200 [13:39<00:00,  1.46it/s, loss=0.111]\n"
     ]
    },
    {
     "name": "stdout",
     "output_type": "stream",
     "text": [
      "epoch 75: avg_loss = 0.47740505445438125\n",
      "saved p2_ckpt/backbone.pt\n"
     ]
    },
    {
     "name": "stderr",
     "output_type": "stream",
     "text": [
      "epoch 76: 100%|█████████████████████████████████████████████████████████| 1200/1200 [14:38<00:00,  1.37it/s, loss=0.19]\n"
     ]
    },
    {
     "name": "stdout",
     "output_type": "stream",
     "text": [
      "epoch 76: avg_loss = 0.48294098212383685\n",
      "saved p2_ckpt/backbone.pt\n"
     ]
    },
    {
     "name": "stderr",
     "output_type": "stream",
     "text": [
      "epoch 77: 100%|████████████████████████████████████████████████████████| 1200/1200 [14:40<00:00,  1.36it/s, loss=0.507]\n"
     ]
    },
    {
     "name": "stdout",
     "output_type": "stream",
     "text": [
      "epoch 77: avg_loss = 0.5055151868642618\n",
      "saved p2_ckpt/backbone.pt\n"
     ]
    },
    {
     "name": "stderr",
     "output_type": "stream",
     "text": [
      "epoch 78: 100%|████████████████████████████████████████████████████████| 1200/1200 [14:04<00:00,  1.42it/s, loss=0.255]\n"
     ]
    },
    {
     "name": "stdout",
     "output_type": "stream",
     "text": [
      "epoch 78: avg_loss = 0.4895910446594159\n",
      "saved p2_ckpt/backbone.pt\n"
     ]
    },
    {
     "name": "stderr",
     "output_type": "stream",
     "text": [
      "epoch 79: 100%|████████████████████████████████████████████████████████| 1200/1200 [13:55<00:00,  1.44it/s, loss=0.527]\n"
     ]
    },
    {
     "name": "stdout",
     "output_type": "stream",
     "text": [
      "epoch 79: avg_loss = 0.4983753823954612\n",
      "saved p2_ckpt/backbone.pt\n"
     ]
    },
    {
     "name": "stderr",
     "output_type": "stream",
     "text": [
      "epoch 80: 100%|████████████████████████████████████████████████████████| 1200/1200 [13:13<00:00,  1.51it/s, loss=0.482]\n"
     ]
    },
    {
     "name": "stdout",
     "output_type": "stream",
     "text": [
      "epoch 80: avg_loss = 0.48481274334403374\n",
      "saved p2_ckpt/backbone.pt\n",
      "saved p2_ckpt/backbone_80.pt\n"
     ]
    },
    {
     "data": {
      "image/png": "[encoded data removed]",
      "text/plain": [
       "<Figure size 1000x300 with 1 Axes>"
      ]
     },
     "metadata": {},
     "output_type": "display_data"
    },
    {
     "name": "stderr",
     "output_type": "stream",
     "text": [
      "epoch 81: 100%|████████████████████████████████████████████████████████| 1200/1200 [13:13<00:00,  1.51it/s, loss=0.628]\n"
     ]
    },
    {
     "name": "stdout",
     "output_type": "stream",
     "text": [
      "epoch 81: avg_loss = 0.48714993921418986\n",
      "saved p2_ckpt/backbone.pt\n"
     ]
    },
    {
     "name": "stderr",
     "output_type": "stream",
     "text": [
      "epoch 82: 100%|████████████████████████████████████████████████████████| 1200/1200 [14:15<00:00,  1.40it/s, loss=0.205]\n"
     ]
    },
    {
     "name": "stdout",
     "output_type": "stream",
     "text": [
      "epoch 82: avg_loss = 0.4859870957707365\n",
      "saved p2_ckpt/backbone.pt\n"
     ]
    },
    {
     "name": "stderr",
     "output_type": "stream",
     "text": [
      "epoch 83: 100%|████████████████████████████████████████████████████████| 1200/1200 [14:51<00:00,  1.35it/s, loss=0.271]\n"
     ]
    },
    {
     "name": "stdout",
     "output_type": "stream",
     "text": [
      "epoch 83: avg_loss = 0.477492597643286\n",
      "saved p2_ckpt/backbone.pt\n"
     ]
    },
    {
     "name": "stderr",
     "output_type": "stream",
     "text": [
      "epoch 84: 100%|████████████████████████████████████████████████████████| 1200/1200 [14:03<00:00,  1.42it/s, loss=0.123]\n"
     ]
    },
    {
     "name": "stdout",
     "output_type": "stream",
     "text": [
      "epoch 84: avg_loss = 0.4785472714000692\n",
      "saved p2_ckpt/backbone.pt\n"
     ]
    },
    {
     "name": "stderr",
     "output_type": "stream",
     "text": [
      "epoch 85: 100%|████████████████████████████████████████████████████████| 1200/1200 [14:04<00:00,  1.42it/s, loss=0.174]\n"
     ]
    },
    {
     "name": "stdout",
     "output_type": "stream",
     "text": [
      "epoch 85: avg_loss = 0.46728981999059516\n",
      "saved p2_ckpt/backbone.pt\n"
     ]
    },
    {
     "name": "stderr",
     "output_type": "stream",
     "text": [
      "epoch 86: 100%|████████████████████████████████████████████████████████| 1200/1200 [13:58<00:00,  1.43it/s, loss=0.155]\n"
     ]
    },
    {
     "name": "stdout",
     "output_type": "stream",
     "text": [
      "epoch 86: avg_loss = 0.49298349330201746\n",
      "saved p2_ckpt/backbone.pt\n"
     ]
    },
    {
     "name": "stderr",
     "output_type": "stream",
     "text": [
      "epoch 87: 100%|████████████████████████████████████████████████████████| 1200/1200 [14:49<00:00,  1.35it/s, loss=0.162]\n"
     ]
    },
    {
     "name": "stdout",
     "output_type": "stream",
     "text": [
      "epoch 87: avg_loss = 0.48268316353981694\n",
      "saved p2_ckpt/backbone.pt\n"
     ]
    },
    {
     "name": "stderr",
     "output_type": "stream",
     "text": [
      "epoch 88: 100%|████████████████████████████████████████████████████████| 1200/1200 [16:36<00:00,  1.20it/s, loss=0.403]\n"
     ]
    },
    {
     "name": "stdout",
     "output_type": "stream",
     "text": [
      "epoch 88: avg_loss = 0.5020040764970084\n",
      "saved p2_ckpt/backbone.pt\n"
     ]
    },
    {
     "name": "stderr",
     "output_type": "stream",
     "text": [
      "epoch 89: 100%|████████████████████████████████████████████████████████| 1200/1200 [15:56<00:00,  1.25it/s, loss=0.221]\n"
     ]
    },
    {
     "name": "stdout",
     "output_type": "stream",
     "text": [
      "epoch 89: avg_loss = 0.4917234329227358\n",
      "saved p2_ckpt/backbone.pt\n"
     ]
    },
    {
     "name": "stderr",
     "output_type": "stream",
     "text": [
      "epoch 90: 100%|███████████████████████████████████████████████████████| 1200/1200 [16:04<00:00,  1.24it/s, loss=0.0693]\n"
     ]
    },
    {
     "name": "stdout",
     "output_type": "stream",
     "text": [
      "epoch 90: avg_loss = 0.47207982738812765\n",
      "saved p2_ckpt/backbone.pt\n",
      "saved p2_ckpt/backbone_90.pt\n"
     ]
    },
    {
     "data": {
      "image/png": "[encoded data removed]",
      "text/plain": [
       "<Figure size 1000x300 with 1 Axes>"
      ]
     },
     "metadata": {},
     "output_type": "display_data"
    },
    {
     "name": "stderr",
     "output_type": "stream",
     "text": [
      "epoch 91: 100%|█████████████████████████████████████████████████████████| 1200/1200 [13:56<00:00,  1.43it/s, loss=0.09]\n"
     ]
    },
    {
     "name": "stdout",
     "output_type": "stream",
     "text": [
      "epoch 91: avg_loss = 0.4898542445308218\n",
      "saved p2_ckpt/backbone.pt\n"
     ]
    },
    {
     "name": "stderr",
     "output_type": "stream",
     "text": [
      "epoch 92: 100%|█████████████████████████████████████████████████████████| 1200/1200 [14:05<00:00,  1.42it/s, loss=0.47]\n"
     ]
    },
    {
     "name": "stdout",
     "output_type": "stream",
     "text": [
      "epoch 92: avg_loss = 0.4927444962132722\n",
      "saved p2_ckpt/backbone.pt\n"
     ]
    },
    {
     "name": "stderr",
     "output_type": "stream",
     "text": [
      "epoch 93: 100%|███████████████████████████████████████████████████████| 1200/1200 [13:57<00:00,  1.43it/s, loss=0.0823]\n"
     ]
    },
    {
     "name": "stdout",
     "output_type": "stream",
     "text": [
      "epoch 93: avg_loss = 0.48465894257339337\n",
      "saved p2_ckpt/backbone.pt\n"
     ]
    },
    {
     "name": "stderr",
     "output_type": "stream",
     "text": [
      "epoch 94: 100%|████████████████████████████████████████████████████████| 1200/1200 [14:03<00:00,  1.42it/s, loss=0.488]\n"
     ]
    },
    {
     "name": "stdout",
     "output_type": "stream",
     "text": [
      "epoch 94: avg_loss = 0.4973740105579297\n",
      "saved p2_ckpt/backbone.pt\n"
     ]
    },
    {
     "name": "stderr",
     "output_type": "stream",
     "text": [
      "epoch 95: 100%|████████████████████████████████████████████████████████| 1200/1200 [14:07<00:00,  1.42it/s, loss=0.392]\n"
     ]
    },
    {
     "name": "stdout",
     "output_type": "stream",
     "text": [
      "epoch 95: avg_loss = 0.4947132190316916\n",
      "saved p2_ckpt/backbone.pt\n"
     ]
    },
    {
     "name": "stderr",
     "output_type": "stream",
     "text": [
      "epoch 96: 100%|████████████████████████████████████████████████████████| 1200/1200 [15:01<00:00,  1.33it/s, loss=0.698]\n"
     ]
    },
    {
     "name": "stdout",
     "output_type": "stream",
     "text": [
      "epoch 96: avg_loss = 0.4947023189999163\n",
      "saved p2_ckpt/backbone.pt\n"
     ]
    },
    {
     "name": "stderr",
     "output_type": "stream",
     "text": [
      "epoch 97: 100%|████████████████████████████████████████████████████████| 1200/1200 [15:35<00:00,  1.28it/s, loss=0.715]\n"
     ]
    },
    {
     "name": "stdout",
     "output_type": "stream",
     "text": [
      "epoch 97: avg_loss = 0.4978257612728824\n",
      "saved p2_ckpt/backbone.pt\n"
     ]
    },
    {
     "name": "stderr",
     "output_type": "stream",
     "text": [
      "epoch 98: 100%|████████████████████████████████████████████████████████| 1200/1200 [14:33<00:00,  1.37it/s, loss=0.609]\n"
     ]
    },
    {
     "name": "stdout",
     "output_type": "stream",
     "text": [
      "epoch 98: avg_loss = 0.4822730102793624\n",
      "saved p2_ckpt/backbone.pt\n"
     ]
    },
    {
     "name": "stderr",
     "output_type": "stream",
     "text": [
      "epoch 99: 100%|████████████████████████████████████████████████████████| 1200/1200 [15:13<00:00,  1.31it/s, loss=0.615]\n"
     ]
    },
    {
     "name": "stdout",
     "output_type": "stream",
     "text": [
      "epoch 99: avg_loss = 0.4753527501380692\n",
      "saved p2_ckpt/backbone.pt\n"
     ]
    },
    {
     "name": "stderr",
     "output_type": "stream",
     "text": [
      "epoch 100: 100%|███████████████████████████████████████████████████████| 1200/1200 [14:25<00:00,  1.39it/s, loss=0.305]\n"
     ]
    },
    {
     "name": "stdout",
     "output_type": "stream",
     "text": [
      "epoch 100: avg_loss = 0.4826307225475709\n",
      "saved p2_ckpt/backbone.pt\n",
      "saved p2_ckpt/backbone_100.pt\n"
     ]
    },
    {
     "data": {
      "image/png": "[encoded data removed]",
      "text/plain": [
       "<Figure size 1000x300 with 1 Axes>"
      ]
     },
     "metadata": {},
     "output_type": "display_data"
    }
   ],
   "source": [
    "max_epoch = 100\n",
    "for e in range(epoch+1, max_epoch+1):\n",
    "    avg_loss = 0\n",
    "    batch_num = len(mini_dataloader)\n",
    "    with tqdm.tqdm(total=batch_num) as pbar:\n",
    "        pbar.set_description(f'epoch {e}')\n",
    "        for images in mini_dataloader:\n",
    "            images = images.to(device)\n",
    "            loss = learner(images)\n",
    "            avg_loss += loss.item()\n",
    "            optimizer.zero_grad()\n",
    "            loss.backward()\n",
    "            optimizer.step()\n",
    "            pbar.set_postfix({'loss': loss.item()})\n",
    "            pbar.update(1)\n",
    "    avg_loss /= batch_num\n",
    "    print(f'epoch {e}: avg_loss = {avg_loss}')\n",
    "    loss_record.append(avg_loss)\n",
    "    \n",
    "    # save model\n",
    "    backbone_save_path = f'p2_ckpt/backbone.pt'\n",
    "    torch.save({'epoch': e,\n",
    "                'model_state_dict': backbone.state_dict(),\n",
    "                'optimizer_state_dict': optimizer.state_dict(),\n",
    "                'loss': loss_record,},\n",
    "               backbone_save_path)\n",
    "    print(f'saved {backbone_save_path}')\n",
    "    if e%10 == 0:\n",
    "        backbone_save_path = f'p2_ckpt/backbone_{e}.pt'\n",
    "        torch.save({'epoch': e,\n",
    "                    'model_state_dict': backbone.state_dict(),\n",
    "                    'optimizer_state_dict': optimizer.state_dict(),\n",
    "                    'loss': loss_record,},\n",
    "                   backbone_save_path)\n",
    "        print(f'saved {backbone_save_path}')\n",
    "        plt.figure(figsize=(10,3))\n",
    "        plt.plot(loss_record)\n",
    "        plt.grid()\n",
    "        plt.show()"
   ]
  },
  {
   "cell_type": "code",
   "execution_count": null,
   "id": "76714c7c",
   "metadata": {},
   "outputs": [],
   "source": []
  },
  {
   "cell_type": "code",
   "execution_count": null,
   "id": "8196cbb2",
   "metadata": {},
   "outputs": [],
   "source": []
  },
  {
   "cell_type": "code",
   "execution_count": null,
   "id": "bc2cf4f4",
   "metadata": {},
   "outputs": [],
   "source": []
  },
  {
   "cell_type": "code",
   "execution_count": null,
   "id": "d3e5cb6c",
   "metadata": {},
   "outputs": [],
   "source": []
  },
  {
   "cell_type": "code",
   "execution_count": null,
   "id": "0ccd252e",
   "metadata": {},
   "outputs": [],
   "source": []
  },
  {
   "cell_type": "code",
   "execution_count": null,
   "id": "dfc48f3c",
   "metadata": {},
   "outputs": [],
   "source": []
  },
  {
   "cell_type": "code",
   "execution_count": 10,
   "id": "71985660",
   "metadata": {},
   "outputs": [
    {
     "data": {
      "image/png": "[encoded data removed]",
      "text/plain": [
       "<Figure size 1000x400 with 1 Axes>"
      ]
     },
     "metadata": {},
     "output_type": "display_data"
    }
   ],
   "source": [
    "plt.figure(figsize=(10,4))\n",
    "plt.plot(loss_record)\n",
    "plt.grid()\n",
    "plt.show()"
   ]
  },
  {
   "cell_type": "code",
   "execution_count": null,
   "id": "86f5242d",
   "metadata": {},
   "outputs": [],
   "source": [
    "backbone_save_path = f'p2_ckpt/backbone_{e-1}.pt'\n",
    "torch.save({'epoch': e-1,\n",
    "            'model_state_dict': backbone.state_dict(),\n",
    "            'optimizer_state_dict': optimizer.state_dict(),\n",
    "            'loss': loss_record,},\n",
    "           backbone_save_path)\n",
    "print(f'saved {backbone_save_path}')"
   ]
  },
  {
   "cell_type": "code",
   "execution_count": null,
   "id": "a8bdc630",
   "metadata": {},
   "outputs": [],
   "source": []
  },
  {
   "cell_type": "code",
   "execution_count": null,
   "id": "6fa8aed0",
   "metadata": {},
   "outputs": [],
   "source": []
  },
  {
   "cell_type": "code",
   "execution_count": null,
   "id": "df713563",
   "metadata": {},
   "outputs": [],
   "source": []
  },
  {
   "cell_type": "code",
   "execution_count": null,
   "id": "9715d43a",
   "metadata": {},
   "outputs": [],
   "source": []
  },
  {
   "cell_type": "code",
   "execution_count": null,
   "id": "363c24ce",
   "metadata": {},
   "outputs": [],
   "source": []
  },
  {
   "cell_type": "code",
   "execution_count": null,
   "id": "957a4cfc",
   "metadata": {},
   "outputs": [],
   "source": []
  },
  {
   "cell_type": "code",
   "execution_count": null,
   "id": "f3bb4e87",
   "metadata": {},
   "outputs": [],
   "source": []
  },
  {
   "cell_type": "code",
   "execution_count": null,
   "id": "2ae4a2bc",
   "metadata": {},
   "outputs": [],
   "source": []
  },
  {
   "cell_type": "code",
   "execution_count": null,
   "id": "13d5b3c4",
   "metadata": {},
   "outputs": [],
   "source": []
  },
  {
   "cell_type": "code",
   "execution_count": null,
   "id": "cdcbe23f",
   "metadata": {},
   "outputs": [],
   "source": []
  },
  {
   "cell_type": "code",
   "execution_count": null,
   "id": "f683f6bf",
   "metadata": {},
   "outputs": [],
   "source": []
  },
  {
   "cell_type": "code",
   "execution_count": null,
   "id": "12c13208",
   "metadata": {},
   "outputs": [],
   "source": []
  },
  {
   "cell_type": "code",
   "execution_count": null,
   "id": "57bf2088",
   "metadata": {},
   "outputs": [],
   "source": []
  },
  {
   "cell_type": "code",
   "execution_count": null,
   "id": "b1e05d70",
   "metadata": {},
   "outputs": [],
   "source": []
  },
  {
   "cell_type": "code",
   "execution_count": null,
   "id": "3caf43cb",
   "metadata": {},
   "outputs": [],
   "source": []
  },
  {
   "cell_type": "code",
   "execution_count": null,
   "id": "62399a9d",
   "metadata": {},
   "outputs": [],
   "source": []
  },
  {
   "cell_type": "code",
   "execution_count": null,
   "id": "5b26c668",
   "metadata": {},
   "outputs": [],
   "source": []
  },
  {
   "cell_type": "code",
   "execution_count": null,
   "id": "b235eb24",
   "metadata": {},
   "outputs": [],
   "source": []
  }
 ],
 "metadata": {
  "kernelspec": {
   "display_name": "Python 3 (ipykernel)",
   "language": "python",
   "name": "python3"
  },
  "language_info": {
   "codemirror_mode": {
    "name": "ipython",
    "version": 3
   },
   "file_extension": ".py",
   "mimetype": "text/x-python",
   "name": "python",
   "nbconvert_exporter": "python",
   "pygments_lexer": "ipython3",
   "version": "3.9.7"
  }
 },
 "nbformat": 4,
 "nbformat_minor": 5
}
